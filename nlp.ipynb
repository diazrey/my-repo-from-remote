{
  "nbformat": 4,
  "nbformat_minor": 0,
  "metadata": {
    "colab": {
      "provenance": []
    },
    "kernelspec": {
      "name": "python3",
      "display_name": "Python 3"
    },
    "language_info": {
      "name": "python"
    }
  },
  "cells": [
    {
      "cell_type": "markdown",
      "source": [
        "# **1. INSTAL & IMPORT LIBRARY**"
      ],
      "metadata": {
        "id": "sWcWO6HAqCke"
      }
    },
    {
      "cell_type": "code",
      "execution_count": 1,
      "metadata": {
        "id": "VqQYVCOfmBhu"
      },
      "outputs": [],
      "source": [
        "import pandas as pd\n",
        "import numpy as np\n",
        "import matplotlib.pyplot as plt\n",
        "import seaborn as sns\n",
        "import tensorflow as tf\n",
        "import os\n",
        "import torch\n",
        "from tqdm.notebook import tqdm\n",
        "\n",
        "# Untuk mempermudah, simpan setiap objek agar dapat digunakan untuk pemodelan maupun deployment. Gunakan library Pickle\n",
        "import pickle\n",
        "\n",
        "%matplotlib inline"
      ]
    },
    {
      "cell_type": "code",
      "source": [
        "# Install library Sastrawi\n",
        "!pip -q install sastrawi"
      ],
      "metadata": {
        "colab": {
          "base_uri": "https://localhost:8080/"
        },
        "id": "B0rbi6L2mN49",
        "outputId": "bedd4c2d-ac2e-4e25-fab1-0c26923bc0a9"
      },
      "execution_count": 2,
      "outputs": [
        {
          "output_type": "stream",
          "name": "stdout",
          "text": [
            "\u001b[?25l     \u001b[90m━━━━━━━━━━━━━━━━━━━━━━━━━━━━━━━━━━━━━━━━\u001b[0m \u001b[32m0.0/209.7 KB\u001b[0m \u001b[31m?\u001b[0m eta \u001b[36m-:--:--\u001b[0m\r\u001b[2K     \u001b[91m━━━━━━━━━━━━━━━━━━━━━━━━━━━━━━━━━━━━━━\u001b[0m\u001b[90m╺\u001b[0m \u001b[32m204.8/209.7 KB\u001b[0m \u001b[31m6.8 MB/s\u001b[0m eta \u001b[36m0:00:01\u001b[0m\r\u001b[2K     \u001b[90m━━━━━━━━━━━━━━━━━━━━━━━━━━━━━━━━━━━━━━━\u001b[0m \u001b[32m209.7/209.7 KB\u001b[0m \u001b[31m4.9 MB/s\u001b[0m eta \u001b[36m0:00:00\u001b[0m\n",
            "\u001b[?25h"
          ]
        }
      ]
    },
    {
      "cell_type": "code",
      "source": [
        "import nltk\n",
        "nltk.download('stopwords')"
      ],
      "metadata": {
        "colab": {
          "base_uri": "https://localhost:8080/"
        },
        "id": "aniK22sQmXfN",
        "outputId": "c4189e0a-578b-4516-9fd7-56c20bda6f6f"
      },
      "execution_count": 3,
      "outputs": [
        {
          "output_type": "stream",
          "name": "stderr",
          "text": [
            "[nltk_data] Downloading package stopwords to /root/nltk_data...\n",
            "[nltk_data]   Unzipping corpora/stopwords.zip.\n"
          ]
        },
        {
          "output_type": "execute_result",
          "data": {
            "text/plain": [
              "True"
            ]
          },
          "metadata": {},
          "execution_count": 3
        }
      ]
    },
    {
      "cell_type": "markdown",
      "source": [
        "# **1. Data Acquistion**"
      ],
      "metadata": {
        "id": "ZXgMvaz0qX7-"
      }
    },
    {
      "cell_type": "markdown",
      "source": [
        "Mendownload dataset dari github"
      ],
      "metadata": {
        "id": "TT6inm14qdoh"
      }
    },
    {
      "cell_type": "code",
      "source": [
        "!wget https://raw.githubusercontent.com/rizalespe/Dataset-Sentimen-Analisis-Bahasa-Indonesia/master/dataset_tweet_sentiment_opini_film.csv"
      ],
      "metadata": {
        "colab": {
          "base_uri": "https://localhost:8080/"
        },
        "id": "3aB1p6lTmmeY",
        "outputId": "a1a4797d-6124-426c-b868-3d913459838f"
      },
      "execution_count": 4,
      "outputs": [
        {
          "output_type": "stream",
          "name": "stdout",
          "text": [
            "--2023-04-10 09:58:44--  https://raw.githubusercontent.com/rizalespe/Dataset-Sentimen-Analisis-Bahasa-Indonesia/master/dataset_tweet_sentiment_opini_film.csv\n",
            "Resolving raw.githubusercontent.com (raw.githubusercontent.com)... 185.199.108.133, 185.199.110.133, 185.199.109.133, ...\n",
            "Connecting to raw.githubusercontent.com (raw.githubusercontent.com)|185.199.108.133|:443... connected.\n",
            "HTTP request sent, awaiting response... 200 OK\n",
            "Length: 22687 (22K) [text/plain]\n",
            "Saving to: ‘dataset_tweet_sentiment_opini_film.csv’\n",
            "\n",
            "\r          dataset_t   0%[                    ]       0  --.-KB/s               \rdataset_tweet_senti 100%[===================>]  22.16K  --.-KB/s    in 0.001s  \n",
            "\n",
            "2023-04-10 09:58:44 (18.1 MB/s) - ‘dataset_tweet_sentiment_opini_film.csv’ saved [22687/22687]\n",
            "\n"
          ]
        }
      ]
    },
    {
      "cell_type": "code",
      "source": [
        "data = pd.read_csv('dataset_tweet_sentiment_opini_film.csv')\n",
        "data.head()"
      ],
      "metadata": {
        "colab": {
          "base_uri": "https://localhost:8080/",
          "height": 206
        },
        "id": "iWQd5GWPmoQr",
        "outputId": "ab1bd021-a61a-4d45-9abb-f37ef919d789"
      },
      "execution_count": 5,
      "outputs": [
        {
          "output_type": "execute_result",
          "data": {
            "text/plain": [
              "   Id Sentiment                                         Text Tweet\n",
              "0   1  negative  Jelek filmnya... apalagi si ernest gak mutu bg...\n",
              "1   2  negative  Film king Arthur ini film paling jelek dari se...\n",
              "2   3  negative  @beexkuanlin Sepanjang film gwa berkata kasar ...\n",
              "3   4  negative  Ane ga suka fast and furious..menurutku kok je...\n",
              "4   5  negative  @baekhyun36 kan gua ga tau film nya, lu bilang..."
            ],
            "text/html": [
              "\n",
              "  <div id=\"df-49476a6b-f404-49c8-83fe-6a392f9893e2\">\n",
              "    <div class=\"colab-df-container\">\n",
              "      <div>\n",
              "<style scoped>\n",
              "    .dataframe tbody tr th:only-of-type {\n",
              "        vertical-align: middle;\n",
              "    }\n",
              "\n",
              "    .dataframe tbody tr th {\n",
              "        vertical-align: top;\n",
              "    }\n",
              "\n",
              "    .dataframe thead th {\n",
              "        text-align: right;\n",
              "    }\n",
              "</style>\n",
              "<table border=\"1\" class=\"dataframe\">\n",
              "  <thead>\n",
              "    <tr style=\"text-align: right;\">\n",
              "      <th></th>\n",
              "      <th>Id</th>\n",
              "      <th>Sentiment</th>\n",
              "      <th>Text Tweet</th>\n",
              "    </tr>\n",
              "  </thead>\n",
              "  <tbody>\n",
              "    <tr>\n",
              "      <th>0</th>\n",
              "      <td>1</td>\n",
              "      <td>negative</td>\n",
              "      <td>Jelek filmnya... apalagi si ernest gak mutu bg...</td>\n",
              "    </tr>\n",
              "    <tr>\n",
              "      <th>1</th>\n",
              "      <td>2</td>\n",
              "      <td>negative</td>\n",
              "      <td>Film king Arthur ini film paling jelek dari se...</td>\n",
              "    </tr>\n",
              "    <tr>\n",
              "      <th>2</th>\n",
              "      <td>3</td>\n",
              "      <td>negative</td>\n",
              "      <td>@beexkuanlin Sepanjang film gwa berkata kasar ...</td>\n",
              "    </tr>\n",
              "    <tr>\n",
              "      <th>3</th>\n",
              "      <td>4</td>\n",
              "      <td>negative</td>\n",
              "      <td>Ane ga suka fast and furious..menurutku kok je...</td>\n",
              "    </tr>\n",
              "    <tr>\n",
              "      <th>4</th>\n",
              "      <td>5</td>\n",
              "      <td>negative</td>\n",
              "      <td>@baekhyun36 kan gua ga tau film nya, lu bilang...</td>\n",
              "    </tr>\n",
              "  </tbody>\n",
              "</table>\n",
              "</div>\n",
              "      <button class=\"colab-df-convert\" onclick=\"convertToInteractive('df-49476a6b-f404-49c8-83fe-6a392f9893e2')\"\n",
              "              title=\"Convert this dataframe to an interactive table.\"\n",
              "              style=\"display:none;\">\n",
              "        \n",
              "  <svg xmlns=\"http://www.w3.org/2000/svg\" height=\"24px\"viewBox=\"0 0 24 24\"\n",
              "       width=\"24px\">\n",
              "    <path d=\"M0 0h24v24H0V0z\" fill=\"none\"/>\n",
              "    <path d=\"M18.56 5.44l.94 2.06.94-2.06 2.06-.94-2.06-.94-.94-2.06-.94 2.06-2.06.94zm-11 1L8.5 8.5l.94-2.06 2.06-.94-2.06-.94L8.5 2.5l-.94 2.06-2.06.94zm10 10l.94 2.06.94-2.06 2.06-.94-2.06-.94-.94-2.06-.94 2.06-2.06.94z\"/><path d=\"M17.41 7.96l-1.37-1.37c-.4-.4-.92-.59-1.43-.59-.52 0-1.04.2-1.43.59L10.3 9.45l-7.72 7.72c-.78.78-.78 2.05 0 2.83L4 21.41c.39.39.9.59 1.41.59.51 0 1.02-.2 1.41-.59l7.78-7.78 2.81-2.81c.8-.78.8-2.07 0-2.86zM5.41 20L4 18.59l7.72-7.72 1.47 1.35L5.41 20z\"/>\n",
              "  </svg>\n",
              "      </button>\n",
              "      \n",
              "  <style>\n",
              "    .colab-df-container {\n",
              "      display:flex;\n",
              "      flex-wrap:wrap;\n",
              "      gap: 12px;\n",
              "    }\n",
              "\n",
              "    .colab-df-convert {\n",
              "      background-color: #E8F0FE;\n",
              "      border: none;\n",
              "      border-radius: 50%;\n",
              "      cursor: pointer;\n",
              "      display: none;\n",
              "      fill: #1967D2;\n",
              "      height: 32px;\n",
              "      padding: 0 0 0 0;\n",
              "      width: 32px;\n",
              "    }\n",
              "\n",
              "    .colab-df-convert:hover {\n",
              "      background-color: #E2EBFA;\n",
              "      box-shadow: 0px 1px 2px rgba(60, 64, 67, 0.3), 0px 1px 3px 1px rgba(60, 64, 67, 0.15);\n",
              "      fill: #174EA6;\n",
              "    }\n",
              "\n",
              "    [theme=dark] .colab-df-convert {\n",
              "      background-color: #3B4455;\n",
              "      fill: #D2E3FC;\n",
              "    }\n",
              "\n",
              "    [theme=dark] .colab-df-convert:hover {\n",
              "      background-color: #434B5C;\n",
              "      box-shadow: 0px 1px 3px 1px rgba(0, 0, 0, 0.15);\n",
              "      filter: drop-shadow(0px 1px 2px rgba(0, 0, 0, 0.3));\n",
              "      fill: #FFFFFF;\n",
              "    }\n",
              "  </style>\n",
              "\n",
              "      <script>\n",
              "        const buttonEl =\n",
              "          document.querySelector('#df-49476a6b-f404-49c8-83fe-6a392f9893e2 button.colab-df-convert');\n",
              "        buttonEl.style.display =\n",
              "          google.colab.kernel.accessAllowed ? 'block' : 'none';\n",
              "\n",
              "        async function convertToInteractive(key) {\n",
              "          const element = document.querySelector('#df-49476a6b-f404-49c8-83fe-6a392f9893e2');\n",
              "          const dataTable =\n",
              "            await google.colab.kernel.invokeFunction('convertToInteractive',\n",
              "                                                     [key], {});\n",
              "          if (!dataTable) return;\n",
              "\n",
              "          const docLinkHtml = 'Like what you see? Visit the ' +\n",
              "            '<a target=\"_blank\" href=https://colab.research.google.com/notebooks/data_table.ipynb>data table notebook</a>'\n",
              "            + ' to learn more about interactive tables.';\n",
              "          element.innerHTML = '';\n",
              "          dataTable['output_type'] = 'display_data';\n",
              "          await google.colab.output.renderOutput(dataTable, element);\n",
              "          const docLink = document.createElement('div');\n",
              "          docLink.innerHTML = docLinkHtml;\n",
              "          element.appendChild(docLink);\n",
              "        }\n",
              "      </script>\n",
              "    </div>\n",
              "  </div>\n",
              "  "
            ]
          },
          "metadata": {},
          "execution_count": 5
        }
      ]
    },
    {
      "cell_type": "code",
      "source": [
        "data.tail()"
      ],
      "metadata": {
        "colab": {
          "base_uri": "https://localhost:8080/",
          "height": 206
        },
        "id": "2t0pveXumrOZ",
        "outputId": "40dae48c-e819-4e15-e029-64c48984f526"
      },
      "execution_count": 6,
      "outputs": [
        {
          "output_type": "execute_result",
          "data": {
            "text/plain": [
              "      Id Sentiment                                         Text Tweet\n",
              "195  196  positive  Fargo juga adaptasi dari film yang cukup berha...\n",
              "196  197  positive  637.000 waw ini sangat keren flm horor dng jum...\n",
              "197  198  positive  @filmziarah film yang tenang dan menghanyutkan...\n",
              "198  199  positive  Film yg amat menarik. Kisah cinta & kesetiaan ...\n",
              "199  200  positive  Nntn @filmziarah , film bagus, ada kali 5 meni..."
            ],
            "text/html": [
              "\n",
              "  <div id=\"df-da482cbb-0b24-42d5-a8d0-804088bda247\">\n",
              "    <div class=\"colab-df-container\">\n",
              "      <div>\n",
              "<style scoped>\n",
              "    .dataframe tbody tr th:only-of-type {\n",
              "        vertical-align: middle;\n",
              "    }\n",
              "\n",
              "    .dataframe tbody tr th {\n",
              "        vertical-align: top;\n",
              "    }\n",
              "\n",
              "    .dataframe thead th {\n",
              "        text-align: right;\n",
              "    }\n",
              "</style>\n",
              "<table border=\"1\" class=\"dataframe\">\n",
              "  <thead>\n",
              "    <tr style=\"text-align: right;\">\n",
              "      <th></th>\n",
              "      <th>Id</th>\n",
              "      <th>Sentiment</th>\n",
              "      <th>Text Tweet</th>\n",
              "    </tr>\n",
              "  </thead>\n",
              "  <tbody>\n",
              "    <tr>\n",
              "      <th>195</th>\n",
              "      <td>196</td>\n",
              "      <td>positive</td>\n",
              "      <td>Fargo juga adaptasi dari film yang cukup berha...</td>\n",
              "    </tr>\n",
              "    <tr>\n",
              "      <th>196</th>\n",
              "      <td>197</td>\n",
              "      <td>positive</td>\n",
              "      <td>637.000 waw ini sangat keren flm horor dng jum...</td>\n",
              "    </tr>\n",
              "    <tr>\n",
              "      <th>197</th>\n",
              "      <td>198</td>\n",
              "      <td>positive</td>\n",
              "      <td>@filmziarah film yang tenang dan menghanyutkan...</td>\n",
              "    </tr>\n",
              "    <tr>\n",
              "      <th>198</th>\n",
              "      <td>199</td>\n",
              "      <td>positive</td>\n",
              "      <td>Film yg amat menarik. Kisah cinta &amp; kesetiaan ...</td>\n",
              "    </tr>\n",
              "    <tr>\n",
              "      <th>199</th>\n",
              "      <td>200</td>\n",
              "      <td>positive</td>\n",
              "      <td>Nntn @filmziarah , film bagus, ada kali 5 meni...</td>\n",
              "    </tr>\n",
              "  </tbody>\n",
              "</table>\n",
              "</div>\n",
              "      <button class=\"colab-df-convert\" onclick=\"convertToInteractive('df-da482cbb-0b24-42d5-a8d0-804088bda247')\"\n",
              "              title=\"Convert this dataframe to an interactive table.\"\n",
              "              style=\"display:none;\">\n",
              "        \n",
              "  <svg xmlns=\"http://www.w3.org/2000/svg\" height=\"24px\"viewBox=\"0 0 24 24\"\n",
              "       width=\"24px\">\n",
              "    <path d=\"M0 0h24v24H0V0z\" fill=\"none\"/>\n",
              "    <path d=\"M18.56 5.44l.94 2.06.94-2.06 2.06-.94-2.06-.94-.94-2.06-.94 2.06-2.06.94zm-11 1L8.5 8.5l.94-2.06 2.06-.94-2.06-.94L8.5 2.5l-.94 2.06-2.06.94zm10 10l.94 2.06.94-2.06 2.06-.94-2.06-.94-.94-2.06-.94 2.06-2.06.94z\"/><path d=\"M17.41 7.96l-1.37-1.37c-.4-.4-.92-.59-1.43-.59-.52 0-1.04.2-1.43.59L10.3 9.45l-7.72 7.72c-.78.78-.78 2.05 0 2.83L4 21.41c.39.39.9.59 1.41.59.51 0 1.02-.2 1.41-.59l7.78-7.78 2.81-2.81c.8-.78.8-2.07 0-2.86zM5.41 20L4 18.59l7.72-7.72 1.47 1.35L5.41 20z\"/>\n",
              "  </svg>\n",
              "      </button>\n",
              "      \n",
              "  <style>\n",
              "    .colab-df-container {\n",
              "      display:flex;\n",
              "      flex-wrap:wrap;\n",
              "      gap: 12px;\n",
              "    }\n",
              "\n",
              "    .colab-df-convert {\n",
              "      background-color: #E8F0FE;\n",
              "      border: none;\n",
              "      border-radius: 50%;\n",
              "      cursor: pointer;\n",
              "      display: none;\n",
              "      fill: #1967D2;\n",
              "      height: 32px;\n",
              "      padding: 0 0 0 0;\n",
              "      width: 32px;\n",
              "    }\n",
              "\n",
              "    .colab-df-convert:hover {\n",
              "      background-color: #E2EBFA;\n",
              "      box-shadow: 0px 1px 2px rgba(60, 64, 67, 0.3), 0px 1px 3px 1px rgba(60, 64, 67, 0.15);\n",
              "      fill: #174EA6;\n",
              "    }\n",
              "\n",
              "    [theme=dark] .colab-df-convert {\n",
              "      background-color: #3B4455;\n",
              "      fill: #D2E3FC;\n",
              "    }\n",
              "\n",
              "    [theme=dark] .colab-df-convert:hover {\n",
              "      background-color: #434B5C;\n",
              "      box-shadow: 0px 1px 3px 1px rgba(0, 0, 0, 0.15);\n",
              "      filter: drop-shadow(0px 1px 2px rgba(0, 0, 0, 0.3));\n",
              "      fill: #FFFFFF;\n",
              "    }\n",
              "  </style>\n",
              "\n",
              "      <script>\n",
              "        const buttonEl =\n",
              "          document.querySelector('#df-da482cbb-0b24-42d5-a8d0-804088bda247 button.colab-df-convert');\n",
              "        buttonEl.style.display =\n",
              "          google.colab.kernel.accessAllowed ? 'block' : 'none';\n",
              "\n",
              "        async function convertToInteractive(key) {\n",
              "          const element = document.querySelector('#df-da482cbb-0b24-42d5-a8d0-804088bda247');\n",
              "          const dataTable =\n",
              "            await google.colab.kernel.invokeFunction('convertToInteractive',\n",
              "                                                     [key], {});\n",
              "          if (!dataTable) return;\n",
              "\n",
              "          const docLinkHtml = 'Like what you see? Visit the ' +\n",
              "            '<a target=\"_blank\" href=https://colab.research.google.com/notebooks/data_table.ipynb>data table notebook</a>'\n",
              "            + ' to learn more about interactive tables.';\n",
              "          element.innerHTML = '';\n",
              "          dataTable['output_type'] = 'display_data';\n",
              "          await google.colab.output.renderOutput(dataTable, element);\n",
              "          const docLink = document.createElement('div');\n",
              "          docLink.innerHTML = docLinkHtml;\n",
              "          element.appendChild(docLink);\n",
              "        }\n",
              "      </script>\n",
              "    </div>\n",
              "  </div>\n",
              "  "
            ]
          },
          "metadata": {},
          "execution_count": 6
        }
      ]
    },
    {
      "cell_type": "code",
      "source": [
        "data.info()"
      ],
      "metadata": {
        "colab": {
          "base_uri": "https://localhost:8080/"
        },
        "id": "7J2RvVK8mwsE",
        "outputId": "bab2c50c-b7a1-4eac-acbc-6306acd58d2c"
      },
      "execution_count": 7,
      "outputs": [
        {
          "output_type": "stream",
          "name": "stdout",
          "text": [
            "<class 'pandas.core.frame.DataFrame'>\n",
            "RangeIndex: 200 entries, 0 to 199\n",
            "Data columns (total 3 columns):\n",
            " #   Column      Non-Null Count  Dtype \n",
            "---  ------      --------------  ----- \n",
            " 0   Id          200 non-null    int64 \n",
            " 1   Sentiment   200 non-null    object\n",
            " 2   Text Tweet  200 non-null    object\n",
            "dtypes: int64(1), object(2)\n",
            "memory usage: 4.8+ KB\n"
          ]
        }
      ]
    },
    {
      "cell_type": "code",
      "source": [
        "print('Total Jumlah opini film:', data.shape[0], 'data\\n')\n",
        "print('terdiri dari (Sentiment):')\n",
        "print('-- [1] Opini film positif\\t:', data[data.Sentiment == 'positive'].shape[0], 'data')\n",
        "print('-- [2] opini film negatif\\t:', data[data.Sentiment == 'positive'].shape[0], 'data')"
      ],
      "metadata": {
        "colab": {
          "base_uri": "https://localhost:8080/"
        },
        "id": "jOv99Z2Wm1Mu",
        "outputId": "aa4f2e85-e0ac-4a20-9c82-b5d7899a39a6"
      },
      "execution_count": 8,
      "outputs": [
        {
          "output_type": "stream",
          "name": "stdout",
          "text": [
            "Total Jumlah opini film: 200 data\n",
            "\n",
            "terdiri dari (Sentiment):\n",
            "-- [1] Opini film positif\t: 100 data\n",
            "-- [2] opini film negatif\t: 100 data\n"
          ]
        }
      ]
    },
    {
      "cell_type": "code",
      "source": [
        "def sentiment(teks):\n",
        "  if teks == 'positive':\n",
        "    return 1\n",
        "  if teks == 'negative':\n",
        "    return 2"
      ],
      "metadata": {
        "id": "XlgST40xm3_H"
      },
      "execution_count": 9,
      "outputs": []
    },
    {
      "cell_type": "code",
      "source": [
        "data['label']=data['Sentiment'].apply(sentiment)\n",
        "data"
      ],
      "metadata": {
        "colab": {
          "base_uri": "https://localhost:8080/",
          "height": 424
        },
        "id": "4oQwOuQXm5NF",
        "outputId": "8e83df65-ab1d-49d2-c8e4-ca76c0dd1b3a"
      },
      "execution_count": 10,
      "outputs": [
        {
          "output_type": "execute_result",
          "data": {
            "text/plain": [
              "      Id Sentiment                                         Text Tweet  label\n",
              "0      1  negative  Jelek filmnya... apalagi si ernest gak mutu bg...      2\n",
              "1      2  negative  Film king Arthur ini film paling jelek dari se...      2\n",
              "2      3  negative  @beexkuanlin Sepanjang film gwa berkata kasar ...      2\n",
              "3      4  negative  Ane ga suka fast and furious..menurutku kok je...      2\n",
              "4      5  negative  @baekhyun36 kan gua ga tau film nya, lu bilang...      2\n",
              "..   ...       ...                                                ...    ...\n",
              "195  196  positive  Fargo juga adaptasi dari film yang cukup berha...      1\n",
              "196  197  positive  637.000 waw ini sangat keren flm horor dng jum...      1\n",
              "197  198  positive  @filmziarah film yang tenang dan menghanyutkan...      1\n",
              "198  199  positive  Film yg amat menarik. Kisah cinta & kesetiaan ...      1\n",
              "199  200  positive  Nntn @filmziarah , film bagus, ada kali 5 meni...      1\n",
              "\n",
              "[200 rows x 4 columns]"
            ],
            "text/html": [
              "\n",
              "  <div id=\"df-c859d2ff-fef5-4337-b864-65e6bbf9c05f\">\n",
              "    <div class=\"colab-df-container\">\n",
              "      <div>\n",
              "<style scoped>\n",
              "    .dataframe tbody tr th:only-of-type {\n",
              "        vertical-align: middle;\n",
              "    }\n",
              "\n",
              "    .dataframe tbody tr th {\n",
              "        vertical-align: top;\n",
              "    }\n",
              "\n",
              "    .dataframe thead th {\n",
              "        text-align: right;\n",
              "    }\n",
              "</style>\n",
              "<table border=\"1\" class=\"dataframe\">\n",
              "  <thead>\n",
              "    <tr style=\"text-align: right;\">\n",
              "      <th></th>\n",
              "      <th>Id</th>\n",
              "      <th>Sentiment</th>\n",
              "      <th>Text Tweet</th>\n",
              "      <th>label</th>\n",
              "    </tr>\n",
              "  </thead>\n",
              "  <tbody>\n",
              "    <tr>\n",
              "      <th>0</th>\n",
              "      <td>1</td>\n",
              "      <td>negative</td>\n",
              "      <td>Jelek filmnya... apalagi si ernest gak mutu bg...</td>\n",
              "      <td>2</td>\n",
              "    </tr>\n",
              "    <tr>\n",
              "      <th>1</th>\n",
              "      <td>2</td>\n",
              "      <td>negative</td>\n",
              "      <td>Film king Arthur ini film paling jelek dari se...</td>\n",
              "      <td>2</td>\n",
              "    </tr>\n",
              "    <tr>\n",
              "      <th>2</th>\n",
              "      <td>3</td>\n",
              "      <td>negative</td>\n",
              "      <td>@beexkuanlin Sepanjang film gwa berkata kasar ...</td>\n",
              "      <td>2</td>\n",
              "    </tr>\n",
              "    <tr>\n",
              "      <th>3</th>\n",
              "      <td>4</td>\n",
              "      <td>negative</td>\n",
              "      <td>Ane ga suka fast and furious..menurutku kok je...</td>\n",
              "      <td>2</td>\n",
              "    </tr>\n",
              "    <tr>\n",
              "      <th>4</th>\n",
              "      <td>5</td>\n",
              "      <td>negative</td>\n",
              "      <td>@baekhyun36 kan gua ga tau film nya, lu bilang...</td>\n",
              "      <td>2</td>\n",
              "    </tr>\n",
              "    <tr>\n",
              "      <th>...</th>\n",
              "      <td>...</td>\n",
              "      <td>...</td>\n",
              "      <td>...</td>\n",
              "      <td>...</td>\n",
              "    </tr>\n",
              "    <tr>\n",
              "      <th>195</th>\n",
              "      <td>196</td>\n",
              "      <td>positive</td>\n",
              "      <td>Fargo juga adaptasi dari film yang cukup berha...</td>\n",
              "      <td>1</td>\n",
              "    </tr>\n",
              "    <tr>\n",
              "      <th>196</th>\n",
              "      <td>197</td>\n",
              "      <td>positive</td>\n",
              "      <td>637.000 waw ini sangat keren flm horor dng jum...</td>\n",
              "      <td>1</td>\n",
              "    </tr>\n",
              "    <tr>\n",
              "      <th>197</th>\n",
              "      <td>198</td>\n",
              "      <td>positive</td>\n",
              "      <td>@filmziarah film yang tenang dan menghanyutkan...</td>\n",
              "      <td>1</td>\n",
              "    </tr>\n",
              "    <tr>\n",
              "      <th>198</th>\n",
              "      <td>199</td>\n",
              "      <td>positive</td>\n",
              "      <td>Film yg amat menarik. Kisah cinta &amp; kesetiaan ...</td>\n",
              "      <td>1</td>\n",
              "    </tr>\n",
              "    <tr>\n",
              "      <th>199</th>\n",
              "      <td>200</td>\n",
              "      <td>positive</td>\n",
              "      <td>Nntn @filmziarah , film bagus, ada kali 5 meni...</td>\n",
              "      <td>1</td>\n",
              "    </tr>\n",
              "  </tbody>\n",
              "</table>\n",
              "<p>200 rows × 4 columns</p>\n",
              "</div>\n",
              "      <button class=\"colab-df-convert\" onclick=\"convertToInteractive('df-c859d2ff-fef5-4337-b864-65e6bbf9c05f')\"\n",
              "              title=\"Convert this dataframe to an interactive table.\"\n",
              "              style=\"display:none;\">\n",
              "        \n",
              "  <svg xmlns=\"http://www.w3.org/2000/svg\" height=\"24px\"viewBox=\"0 0 24 24\"\n",
              "       width=\"24px\">\n",
              "    <path d=\"M0 0h24v24H0V0z\" fill=\"none\"/>\n",
              "    <path d=\"M18.56 5.44l.94 2.06.94-2.06 2.06-.94-2.06-.94-.94-2.06-.94 2.06-2.06.94zm-11 1L8.5 8.5l.94-2.06 2.06-.94-2.06-.94L8.5 2.5l-.94 2.06-2.06.94zm10 10l.94 2.06.94-2.06 2.06-.94-2.06-.94-.94-2.06-.94 2.06-2.06.94z\"/><path d=\"M17.41 7.96l-1.37-1.37c-.4-.4-.92-.59-1.43-.59-.52 0-1.04.2-1.43.59L10.3 9.45l-7.72 7.72c-.78.78-.78 2.05 0 2.83L4 21.41c.39.39.9.59 1.41.59.51 0 1.02-.2 1.41-.59l7.78-7.78 2.81-2.81c.8-.78.8-2.07 0-2.86zM5.41 20L4 18.59l7.72-7.72 1.47 1.35L5.41 20z\"/>\n",
              "  </svg>\n",
              "      </button>\n",
              "      \n",
              "  <style>\n",
              "    .colab-df-container {\n",
              "      display:flex;\n",
              "      flex-wrap:wrap;\n",
              "      gap: 12px;\n",
              "    }\n",
              "\n",
              "    .colab-df-convert {\n",
              "      background-color: #E8F0FE;\n",
              "      border: none;\n",
              "      border-radius: 50%;\n",
              "      cursor: pointer;\n",
              "      display: none;\n",
              "      fill: #1967D2;\n",
              "      height: 32px;\n",
              "      padding: 0 0 0 0;\n",
              "      width: 32px;\n",
              "    }\n",
              "\n",
              "    .colab-df-convert:hover {\n",
              "      background-color: #E2EBFA;\n",
              "      box-shadow: 0px 1px 2px rgba(60, 64, 67, 0.3), 0px 1px 3px 1px rgba(60, 64, 67, 0.15);\n",
              "      fill: #174EA6;\n",
              "    }\n",
              "\n",
              "    [theme=dark] .colab-df-convert {\n",
              "      background-color: #3B4455;\n",
              "      fill: #D2E3FC;\n",
              "    }\n",
              "\n",
              "    [theme=dark] .colab-df-convert:hover {\n",
              "      background-color: #434B5C;\n",
              "      box-shadow: 0px 1px 3px 1px rgba(0, 0, 0, 0.15);\n",
              "      filter: drop-shadow(0px 1px 2px rgba(0, 0, 0, 0.3));\n",
              "      fill: #FFFFFF;\n",
              "    }\n",
              "  </style>\n",
              "\n",
              "      <script>\n",
              "        const buttonEl =\n",
              "          document.querySelector('#df-c859d2ff-fef5-4337-b864-65e6bbf9c05f button.colab-df-convert');\n",
              "        buttonEl.style.display =\n",
              "          google.colab.kernel.accessAllowed ? 'block' : 'none';\n",
              "\n",
              "        async function convertToInteractive(key) {\n",
              "          const element = document.querySelector('#df-c859d2ff-fef5-4337-b864-65e6bbf9c05f');\n",
              "          const dataTable =\n",
              "            await google.colab.kernel.invokeFunction('convertToInteractive',\n",
              "                                                     [key], {});\n",
              "          if (!dataTable) return;\n",
              "\n",
              "          const docLinkHtml = 'Like what you see? Visit the ' +\n",
              "            '<a target=\"_blank\" href=https://colab.research.google.com/notebooks/data_table.ipynb>data table notebook</a>'\n",
              "            + ' to learn more about interactive tables.';\n",
              "          element.innerHTML = '';\n",
              "          dataTable['output_type'] = 'display_data';\n",
              "          await google.colab.output.renderOutput(dataTable, element);\n",
              "          const docLink = document.createElement('div');\n",
              "          docLink.innerHTML = docLinkHtml;\n",
              "          element.appendChild(docLink);\n",
              "        }\n",
              "      </script>\n",
              "    </div>\n",
              "  </div>\n",
              "  "
            ]
          },
          "metadata": {},
          "execution_count": 10
        }
      ]
    },
    {
      "cell_type": "code",
      "source": [
        "height = data['Sentiment'].value_counts()\n",
        "labels = ('Opini positif', 'Opini Negatif')\n",
        "y_pos = np.arange(len(labels))\n",
        "\n",
        "plt.figure(figsize=(7,4), dpi=80)\n",
        "plt.ylim(0,600)\n",
        "plt.title('Distribusi Sentiment Film', fontweight='bold')\n",
        "plt.xlabel('Kategori', fontweight='bold')\n",
        "plt.ylabel('Jumlah', fontweight='bold')\n",
        "plt.bar(y_pos, height, color=['deepskyblue', 'royalblue'])\n",
        "plt.xticks(y_pos, labels)\n",
        "plt.show()"
      ],
      "metadata": {
        "colab": {
          "base_uri": "https://localhost:8080/",
          "height": 328
        },
        "id": "a8ePCBGom793",
        "outputId": "d388c62a-97aa-4604-f78e-0741f99cc974"
      },
      "execution_count": 11,
      "outputs": [
        {
          "output_type": "display_data",
          "data": {
            "text/plain": [
              "<Figure size 560x320 with 1 Axes>"
            ],
            "image/png": "[encoded data removed]"
          },
          "metadata": {}
        }
      ]
    },
    {
      "cell_type": "markdown",
      "source": [],
      "metadata": {
        "id": "r4LNrpnGqnu9"
      }
    },
    {
      "cell_type": "markdown",
      "source": [
        "# **2. Data Preprocessing**"
      ],
      "metadata": {
        "id": "BlDi_gtIqlQo"
      }
    },
    {
      "cell_type": "code",
      "source": [
        "import re\n",
        "\n",
        "# Buat fungsi untuk langkah case folding\n",
        "def casefolding(text):\n",
        "  text = text.lower()                               # Mengubah teks menjadi lower case\n",
        "  text = re.sub(r'https?://\\S+|www\\.\\S+', '', text) # Menghapus URL\n",
        "  text = re.sub(r'[-+]?[0-9]+', '', text)           # Menghapus angka\n",
        "  text = re.sub(r'[^\\w\\s]','', text)                # Menghapus karakter tanda baca\n",
        "  text = text.strip()\n",
        "  return text"
      ],
      "metadata": {
        "id": "7Hff10JknBW6"
      },
      "execution_count": 13,
      "outputs": []
    },
    {
      "cell_type": "code",
      "source": [
        "raw_sample = data['Text Tweet'].iloc[5]\n",
        "case_folding = casefolding(raw_sample)\n",
        "\n",
        "print('Raw data\\t: ', raw_sample)\n",
        "print('Case folding\\t: ', case_folding)"
      ],
      "metadata": {
        "colab": {
          "base_uri": "https://localhost:8080/"
        },
        "id": "K3-BHNC8nFig",
        "outputId": "49712121-1f33-4c05-93ac-94ee5b44f3b9"
      },
      "execution_count": 14,
      "outputs": [
        {
          "output_type": "stream",
          "name": "stdout",
          "text": [
            "Raw data\t:  tolong editingnya yg bagus ya. Saya sering kecewa dgn film indonesia. Ditunggu filmnya!!\n",
            "Case folding\t:  tolong editingnya yg bagus ya saya sering kecewa dgn film indonesia ditunggu filmnya\n"
          ]
        }
      ]
    },
    {
      "cell_type": "markdown",
      "source": [
        "**Filtering (Stopword Removal)**"
      ],
      "metadata": {
        "id": "QUVk6PDsqq3F"
      }
    },
    {
      "cell_type": "code",
      "source": [
        "from nltk.tokenize import sent_tokenize, word_tokenize\n",
        "from nltk.corpus import stopwords\n",
        "\n",
        "stopwords_ind = stopwords.words('indonesian')"
      ],
      "metadata": {
        "id": "6_hWVCXmnKo-"
      },
      "execution_count": 15,
      "outputs": []
    },
    {
      "cell_type": "code",
      "source": [
        "len(stopwords_ind)"
      ],
      "metadata": {
        "colab": {
          "base_uri": "https://localhost:8080/"
        },
        "id": "rYcSUs4CnLoS",
        "outputId": "b7b2dc5f-f06d-443a-e74c-e9b4ffa32108"
      },
      "execution_count": 16,
      "outputs": [
        {
          "output_type": "execute_result",
          "data": {
            "text/plain": [
              "758"
            ]
          },
          "metadata": {},
          "execution_count": 16
        }
      ]
    },
    {
      "cell_type": "code",
      "source": [
        "# Lihat daftar stopword yang disediakan NLTK\n",
        "stopwords_ind[:20]"
      ],
      "metadata": {
        "colab": {
          "base_uri": "https://localhost:8080/"
        },
        "id": "U6wjpUcynOLa",
        "outputId": "cbe93b63-93ee-47da-902c-0ed4d166fce3"
      },
      "execution_count": 17,
      "outputs": [
        {
          "output_type": "execute_result",
          "data": {
            "text/plain": [
              "['ada',\n",
              " 'adalah',\n",
              " 'adanya',\n",
              " 'adapun',\n",
              " 'agak',\n",
              " 'agaknya',\n",
              " 'agar',\n",
              " 'akan',\n",
              " 'akankah',\n",
              " 'akhir',\n",
              " 'akhiri',\n",
              " 'akhirnya',\n",
              " 'aku',\n",
              " 'akulah',\n",
              " 'amat',\n",
              " 'amatlah',\n",
              " 'anda',\n",
              " 'andalah',\n",
              " 'antar',\n",
              " 'antara']"
            ]
          },
          "metadata": {},
          "execution_count": 17
        }
      ]
    },
    {
      "cell_type": "code",
      "source": [
        "# Buat fungsi untuk langkah stopword removal\n",
        "\n",
        "more_stopword = ['tsel', 'gb', 'rb']                    # Tambahkan kata lain dalam daftar stopword\n",
        "stopwords_ind = stopwords_ind + more_stopword\n",
        "\n",
        "def remove_stop_words(text):\n",
        "  clean_words = []\n",
        "  text = text.split()\n",
        "  for word in text:\n",
        "      if word not in stopwords_ind:\n",
        "          clean_words.append(word)\n",
        "  return \" \".join(clean_words)"
      ],
      "metadata": {
        "id": "3WwzPZM8nRJN"
      },
      "execution_count": 18,
      "outputs": []
    },
    {
      "cell_type": "code",
      "source": [
        "raw_sample = data['Text Tweet'].iloc[5]\n",
        "case_folding = casefolding(raw_sample)\n",
        "stopword_removal = remove_stop_words(case_folding)\n",
        "\n",
        "print('Raw data\\t\\t: ', raw_sample)\n",
        "print('Case folding\\t\\t: ', case_folding)\n",
        "print('Stopword removal\\t: ', stopword_removal)"
      ],
      "metadata": {
        "colab": {
          "base_uri": "https://localhost:8080/"
        },
        "id": "Uef42ungnUKg",
        "outputId": "09628313-5df7-445d-9afa-b0385d4cc6e6"
      },
      "execution_count": 19,
      "outputs": [
        {
          "output_type": "stream",
          "name": "stdout",
          "text": [
            "Raw data\t\t:  tolong editingnya yg bagus ya. Saya sering kecewa dgn film indonesia. Ditunggu filmnya!!\n",
            "Case folding\t\t:  tolong editingnya yg bagus ya saya sering kecewa dgn film indonesia ditunggu filmnya\n",
            "Stopword removal\t:  tolong editingnya yg bagus ya kecewa dgn film indonesia ditunggu filmnya\n"
          ]
        }
      ]
    },
    {
      "cell_type": "markdown",
      "source": [
        "**Stemming**"
      ],
      "metadata": {
        "id": "37mAe3Yfqw7n"
      }
    },
    {
      "cell_type": "code",
      "source": [
        "from Sastrawi.Stemmer.StemmerFactory import StemmerFactory\n",
        "\n",
        "factory = StemmerFactory()\n",
        "stemmer = factory.create_stemmer()\n",
        "\n",
        "# Buat fungsi untuk langkah stemming bahasa Indonesia\n",
        "def stemming(text):\n",
        "  text = stemmer.stem(text)\n",
        "  return text"
      ],
      "metadata": {
        "id": "jFa3cWfZnXzP"
      },
      "execution_count": 20,
      "outputs": []
    },
    {
      "cell_type": "code",
      "source": [
        "raw_sample = data['Text Tweet'].iloc[5]\n",
        "case_folding = casefolding(raw_sample)\n",
        "stopword_removal = remove_stop_words(case_folding)\n",
        "text_stemming = stemming(stopword_removal)\n",
        "\n",
        "print('Raw data\\t\\t: ', raw_sample)\n",
        "print('Case folding\\t\\t: ', case_folding)\n",
        "print('Stopword removal\\t: ', stopword_removal)\n",
        "print('Stemming\\t\\t: ', text_stemming)"
      ],
      "metadata": {
        "colab": {
          "base_uri": "https://localhost:8080/"
        },
        "id": "tYwOfquonaiS",
        "outputId": "31b8d4f2-81fa-49ec-f14e-c7eff7efe3de"
      },
      "execution_count": 21,
      "outputs": [
        {
          "output_type": "stream",
          "name": "stdout",
          "text": [
            "Raw data\t\t:  tolong editingnya yg bagus ya. Saya sering kecewa dgn film indonesia. Ditunggu filmnya!!\n",
            "Case folding\t\t:  tolong editingnya yg bagus ya saya sering kecewa dgn film indonesia ditunggu filmnya\n",
            "Stopword removal\t:  tolong editingnya yg bagus ya kecewa dgn film indonesia ditunggu filmnya\n",
            "Stemming\t\t:  tolong editingnya yg bagus ya kecewa dgn film indonesia tunggu film\n"
          ]
        }
      ]
    },
    {
      "cell_type": "markdown",
      "source": [
        "**Text Preprocessing Pipeline**"
      ],
      "metadata": {
        "id": "UZREH5kPq43S"
      }
    },
    {
      "cell_type": "code",
      "source": [
        "# Buat fungsi untuk menggabungkan seluruh langkah text preprocessing\n",
        "def text_preprocessing_process(text):\n",
        "  text = casefolding(text)\n",
        "  text = remove_stop_words(text)\n",
        "  text = stemming(text)\n",
        "  return text"
      ],
      "metadata": {
        "id": "j3-XjmYKngZq"
      },
      "execution_count": 22,
      "outputs": []
    },
    {
      "cell_type": "code",
      "source": [
        "%%time\n",
        "data['clean_teks'] = data['Text Tweet'].apply(text_preprocessing_process)\n",
        "\n",
        "# Perhatikan waktu komputasi ketika proses text preprocessing"
      ],
      "metadata": {
        "colab": {
          "base_uri": "https://localhost:8080/"
        },
        "id": "rQWdFrwqniBg",
        "outputId": "62c5bca1-2df1-4e9b-dae0-740b82c0ef88"
      },
      "execution_count": 23,
      "outputs": [
        {
          "output_type": "stream",
          "name": "stdout",
          "text": [
            "CPU times: user 55 s, sys: 150 ms, total: 55.2 s\n",
            "Wall time: 57.4 s\n"
          ]
        }
      ]
    },
    {
      "cell_type": "code",
      "source": [
        "data"
      ],
      "metadata": {
        "colab": {
          "base_uri": "https://localhost:8080/",
          "height": 424
        },
        "id": "QahrjuTnnz6y",
        "outputId": "2360f100-86a4-455d-b6c7-d8abf8c3ff63"
      },
      "execution_count": 24,
      "outputs": [
        {
          "output_type": "execute_result",
          "data": {
            "text/plain": [
              "      Id Sentiment                                         Text Tweet  label  \\\n",
              "0      1  negative  Jelek filmnya... apalagi si ernest gak mutu bg...      2   \n",
              "1      2  negative  Film king Arthur ini film paling jelek dari se...      2   \n",
              "2      3  negative  @beexkuanlin Sepanjang film gwa berkata kasar ...      2   \n",
              "3      4  negative  Ane ga suka fast and furious..menurutku kok je...      2   \n",
              "4      5  negative  @baekhyun36 kan gua ga tau film nya, lu bilang...      2   \n",
              "..   ...       ...                                                ...    ...   \n",
              "195  196  positive  Fargo juga adaptasi dari film yang cukup berha...      1   \n",
              "196  197  positive  637.000 waw ini sangat keren flm horor dng jum...      1   \n",
              "197  198  positive  @filmziarah film yang tenang dan menghanyutkan...      1   \n",
              "198  199  positive  Film yg amat menarik. Kisah cinta & kesetiaan ...      1   \n",
              "199  200  positive  Nntn @filmziarah , film bagus, ada kali 5 meni...      1   \n",
              "\n",
              "                                            clean_teks  \n",
              "0    jelek film si ernest gak mutu bgt actingnya fi...  \n",
              "1       film king arthur film jelek cerita king arthur  \n",
              "2                     beexkuanlin film gwa kasar bapak  \n",
              "3    ane ga suka fast and furiousmenurutku jelek ya...  \n",
              "4    baekhyun gua ga tau film nya lu bilang perang ...  \n",
              "..                                                 ...  \n",
              "195      fargo adaptasi film hasil season nya the best  \n",
              "196  waw keren flm horor dng tonton gin dlm prillyb...  \n",
              "197  filmziarah film tenang hanyut salut mbah ponco...  \n",
              "198  film yg tarik kisah cinta setia yg saji bikin ...  \n",
              "199  nntn filmziarah film bagus kali menit tonton g...  \n",
              "\n",
              "[200 rows x 5 columns]"
            ],
            "text/html": [
              "\n",
              "  <div id=\"df-2640868d-9ba0-44f6-80bc-0bba43942157\">\n",
              "    <div class=\"colab-df-container\">\n",
              "      <div>\n",
              "<style scoped>\n",
              "    .dataframe tbody tr th:only-of-type {\n",
              "        vertical-align: middle;\n",
              "    }\n",
              "\n",
              "    .dataframe tbody tr th {\n",
              "        vertical-align: top;\n",
              "    }\n",
              "\n",
              "    .dataframe thead th {\n",
              "        text-align: right;\n",
              "    }\n",
              "</style>\n",
              "<table border=\"1\" class=\"dataframe\">\n",
              "  <thead>\n",
              "    <tr style=\"text-align: right;\">\n",
              "      <th></th>\n",
              "      <th>Id</th>\n",
              "      <th>Sentiment</th>\n",
              "      <th>Text Tweet</th>\n",
              "      <th>label</th>\n",
              "      <th>clean_teks</th>\n",
              "    </tr>\n",
              "  </thead>\n",
              "  <tbody>\n",
              "    <tr>\n",
              "      <th>0</th>\n",
              "      <td>1</td>\n",
              "      <td>negative</td>\n",
              "      <td>Jelek filmnya... apalagi si ernest gak mutu bg...</td>\n",
              "      <td>2</td>\n",
              "      <td>jelek film si ernest gak mutu bgt actingnya fi...</td>\n",
              "    </tr>\n",
              "    <tr>\n",
              "      <th>1</th>\n",
              "      <td>2</td>\n",
              "      <td>negative</td>\n",
              "      <td>Film king Arthur ini film paling jelek dari se...</td>\n",
              "      <td>2</td>\n",
              "      <td>film king arthur film jelek cerita king arthur</td>\n",
              "    </tr>\n",
              "    <tr>\n",
              "      <th>2</th>\n",
              "      <td>3</td>\n",
              "      <td>negative</td>\n",
              "      <td>@beexkuanlin Sepanjang film gwa berkata kasar ...</td>\n",
              "      <td>2</td>\n",
              "      <td>beexkuanlin film gwa kasar bapak</td>\n",
              "    </tr>\n",
              "    <tr>\n",
              "      <th>3</th>\n",
              "      <td>4</td>\n",
              "      <td>negative</td>\n",
              "      <td>Ane ga suka fast and furious..menurutku kok je...</td>\n",
              "      <td>2</td>\n",
              "      <td>ane ga suka fast and furiousmenurutku jelek ya...</td>\n",
              "    </tr>\n",
              "    <tr>\n",
              "      <th>4</th>\n",
              "      <td>5</td>\n",
              "      <td>negative</td>\n",
              "      <td>@baekhyun36 kan gua ga tau film nya, lu bilang...</td>\n",
              "      <td>2</td>\n",
              "      <td>baekhyun gua ga tau film nya lu bilang perang ...</td>\n",
              "    </tr>\n",
              "    <tr>\n",
              "      <th>...</th>\n",
              "      <td>...</td>\n",
              "      <td>...</td>\n",
              "      <td>...</td>\n",
              "      <td>...</td>\n",
              "      <td>...</td>\n",
              "    </tr>\n",
              "    <tr>\n",
              "      <th>195</th>\n",
              "      <td>196</td>\n",
              "      <td>positive</td>\n",
              "      <td>Fargo juga adaptasi dari film yang cukup berha...</td>\n",
              "      <td>1</td>\n",
              "      <td>fargo adaptasi film hasil season nya the best</td>\n",
              "    </tr>\n",
              "    <tr>\n",
              "      <th>196</th>\n",
              "      <td>197</td>\n",
              "      <td>positive</td>\n",
              "      <td>637.000 waw ini sangat keren flm horor dng jum...</td>\n",
              "      <td>1</td>\n",
              "      <td>waw keren flm horor dng tonton gin dlm prillyb...</td>\n",
              "    </tr>\n",
              "    <tr>\n",
              "      <th>197</th>\n",
              "      <td>198</td>\n",
              "      <td>positive</td>\n",
              "      <td>@filmziarah film yang tenang dan menghanyutkan...</td>\n",
              "      <td>1</td>\n",
              "      <td>filmziarah film tenang hanyut salut mbah ponco...</td>\n",
              "    </tr>\n",
              "    <tr>\n",
              "      <th>198</th>\n",
              "      <td>199</td>\n",
              "      <td>positive</td>\n",
              "      <td>Film yg amat menarik. Kisah cinta &amp; kesetiaan ...</td>\n",
              "      <td>1</td>\n",
              "      <td>film yg tarik kisah cinta setia yg saji bikin ...</td>\n",
              "    </tr>\n",
              "    <tr>\n",
              "      <th>199</th>\n",
              "      <td>200</td>\n",
              "      <td>positive</td>\n",
              "      <td>Nntn @filmziarah , film bagus, ada kali 5 meni...</td>\n",
              "      <td>1</td>\n",
              "      <td>nntn filmziarah film bagus kali menit tonton g...</td>\n",
              "    </tr>\n",
              "  </tbody>\n",
              "</table>\n",
              "<p>200 rows × 5 columns</p>\n",
              "</div>\n",
              "      <button class=\"colab-df-convert\" onclick=\"convertToInteractive('df-2640868d-9ba0-44f6-80bc-0bba43942157')\"\n",
              "              title=\"Convert this dataframe to an interactive table.\"\n",
              "              style=\"display:none;\">\n",
              "        \n",
              "  <svg xmlns=\"http://www.w3.org/2000/svg\" height=\"24px\"viewBox=\"0 0 24 24\"\n",
              "       width=\"24px\">\n",
              "    <path d=\"M0 0h24v24H0V0z\" fill=\"none\"/>\n",
              "    <path d=\"M18.56 5.44l.94 2.06.94-2.06 2.06-.94-2.06-.94-.94-2.06-.94 2.06-2.06.94zm-11 1L8.5 8.5l.94-2.06 2.06-.94-2.06-.94L8.5 2.5l-.94 2.06-2.06.94zm10 10l.94 2.06.94-2.06 2.06-.94-2.06-.94-.94-2.06-.94 2.06-2.06.94z\"/><path d=\"M17.41 7.96l-1.37-1.37c-.4-.4-.92-.59-1.43-.59-.52 0-1.04.2-1.43.59L10.3 9.45l-7.72 7.72c-.78.78-.78 2.05 0 2.83L4 21.41c.39.39.9.59 1.41.59.51 0 1.02-.2 1.41-.59l7.78-7.78 2.81-2.81c.8-.78.8-2.07 0-2.86zM5.41 20L4 18.59l7.72-7.72 1.47 1.35L5.41 20z\"/>\n",
              "  </svg>\n",
              "      </button>\n",
              "      \n",
              "  <style>\n",
              "    .colab-df-container {\n",
              "      display:flex;\n",
              "      flex-wrap:wrap;\n",
              "      gap: 12px;\n",
              "    }\n",
              "\n",
              "    .colab-df-convert {\n",
              "      background-color: #E8F0FE;\n",
              "      border: none;\n",
              "      border-radius: 50%;\n",
              "      cursor: pointer;\n",
              "      display: none;\n",
              "      fill: #1967D2;\n",
              "      height: 32px;\n",
              "      padding: 0 0 0 0;\n",
              "      width: 32px;\n",
              "    }\n",
              "\n",
              "    .colab-df-convert:hover {\n",
              "      background-color: #E2EBFA;\n",
              "      box-shadow: 0px 1px 2px rgba(60, 64, 67, 0.3), 0px 1px 3px 1px rgba(60, 64, 67, 0.15);\n",
              "      fill: #174EA6;\n",
              "    }\n",
              "\n",
              "    [theme=dark] .colab-df-convert {\n",
              "      background-color: #3B4455;\n",
              "      fill: #D2E3FC;\n",
              "    }\n",
              "\n",
              "    [theme=dark] .colab-df-convert:hover {\n",
              "      background-color: #434B5C;\n",
              "      box-shadow: 0px 1px 3px 1px rgba(0, 0, 0, 0.15);\n",
              "      filter: drop-shadow(0px 1px 2px rgba(0, 0, 0, 0.3));\n",
              "      fill: #FFFFFF;\n",
              "    }\n",
              "  </style>\n",
              "\n",
              "      <script>\n",
              "        const buttonEl =\n",
              "          document.querySelector('#df-2640868d-9ba0-44f6-80bc-0bba43942157 button.colab-df-convert');\n",
              "        buttonEl.style.display =\n",
              "          google.colab.kernel.accessAllowed ? 'block' : 'none';\n",
              "\n",
              "        async function convertToInteractive(key) {\n",
              "          const element = document.querySelector('#df-2640868d-9ba0-44f6-80bc-0bba43942157');\n",
              "          const dataTable =\n",
              "            await google.colab.kernel.invokeFunction('convertToInteractive',\n",
              "                                                     [key], {});\n",
              "          if (!dataTable) return;\n",
              "\n",
              "          const docLinkHtml = 'Like what you see? Visit the ' +\n",
              "            '<a target=\"_blank\" href=https://colab.research.google.com/notebooks/data_table.ipynb>data table notebook</a>'\n",
              "            + ' to learn more about interactive tables.';\n",
              "          element.innerHTML = '';\n",
              "          dataTable['output_type'] = 'display_data';\n",
              "          await google.colab.output.renderOutput(dataTable, element);\n",
              "          const docLink = document.createElement('div');\n",
              "          docLink.innerHTML = docLinkHtml;\n",
              "          element.appendChild(docLink);\n",
              "        }\n",
              "      </script>\n",
              "    </div>\n",
              "  </div>\n",
              "  "
            ]
          },
          "metadata": {},
          "execution_count": 24
        }
      ]
    },
    {
      "cell_type": "code",
      "source": [
        "# Simpan data yang telah melalui text preprocessing agar kita tidak perlu menjalankan proses tersebut mulai awal (Opsional)\n",
        "data.to_csv('clean_data.csv')"
      ],
      "metadata": {
        "id": "CaHrjo-Qn1Yk"
      },
      "execution_count": 25,
      "outputs": []
    },
    {
      "cell_type": "markdown",
      "source": [
        "# **3. Feature Engineering**"
      ],
      "metadata": {
        "id": "W4R8Mr38rGE8"
      }
    },
    {
      "cell_type": "code",
      "source": [
        "# Pisahkan kolom fitur dan target\n",
        "X = data['clean_teks']\n",
        "y = data['label']"
      ],
      "metadata": {
        "id": "Ab4DRASzn4EG"
      },
      "execution_count": 26,
      "outputs": []
    },
    {
      "cell_type": "code",
      "source": [
        "X"
      ],
      "metadata": {
        "colab": {
          "base_uri": "https://localhost:8080/"
        },
        "id": "htDN7vr7n6o-",
        "outputId": "631cfab1-df7c-4663-a94f-9cfc43b0fb0a"
      },
      "execution_count": 27,
      "outputs": [
        {
          "output_type": "execute_result",
          "data": {
            "text/plain": [
              "0      jelek film si ernest gak mutu bgt actingnya fi...\n",
              "1         film king arthur film jelek cerita king arthur\n",
              "2                       beexkuanlin film gwa kasar bapak\n",
              "3      ane ga suka fast and furiousmenurutku jelek ya...\n",
              "4      baekhyun gua ga tau film nya lu bilang perang ...\n",
              "                             ...                        \n",
              "195        fargo adaptasi film hasil season nya the best\n",
              "196    waw keren flm horor dng tonton gin dlm prillyb...\n",
              "197    filmziarah film tenang hanyut salut mbah ponco...\n",
              "198    film yg tarik kisah cinta setia yg saji bikin ...\n",
              "199    nntn filmziarah film bagus kali menit tonton g...\n",
              "Name: clean_teks, Length: 200, dtype: object"
            ]
          },
          "metadata": {},
          "execution_count": 27
        }
      ]
    },
    {
      "cell_type": "code",
      "source": [
        "y"
      ],
      "metadata": {
        "colab": {
          "base_uri": "https://localhost:8080/"
        },
        "id": "gJeiBfdtn-LG",
        "outputId": "b495fd61-bbc6-4372-d376-afdf1d6697f1"
      },
      "execution_count": 28,
      "outputs": [
        {
          "output_type": "execute_result",
          "data": {
            "text/plain": [
              "0      2\n",
              "1      2\n",
              "2      2\n",
              "3      2\n",
              "4      2\n",
              "      ..\n",
              "195    1\n",
              "196    1\n",
              "197    1\n",
              "198    1\n",
              "199    1\n",
              "Name: label, Length: 200, dtype: int64"
            ]
          },
          "metadata": {},
          "execution_count": 28
        }
      ]
    },
    {
      "cell_type": "markdown",
      "source": [
        "**Feature Extraction (TF-IDF & N-Gram)**"
      ],
      "metadata": {
        "id": "J7adklcerMpK"
      }
    },
    {
      "cell_type": "markdown",
      "source": [
        "Proses mengubah teks menjadi vector menggunakan metode TF-IDF"
      ],
      "metadata": {
        "id": "dPnPLfSVrbAN"
      }
    },
    {
      "cell_type": "code",
      "source": [
        "'''\n",
        "Convert a collection of raw documents to a matrix of TF-IDF features\n",
        "https://scikit-learn.org/stable/modules/generated/sklearn.feature_extraction.text.TfidfVectorizer.html\n",
        "'''\n",
        "from sklearn.feature_extraction.text import TfidfVectorizer\n",
        "\n",
        "tf_idf = TfidfVectorizer(ngram_range=(1,1))\n",
        "tf_idf.fit(X)"
      ],
      "metadata": {
        "colab": {
          "base_uri": "https://localhost:8080/",
          "height": 75
        },
        "id": "6w8a5gDUn_0a",
        "outputId": "969dfd51-7af8-4b87-c07a-6e081172502f"
      },
      "execution_count": 29,
      "outputs": [
        {
          "output_type": "execute_result",
          "data": {
            "text/plain": [
              "TfidfVectorizer()"
            ],
            "text/html": [
              "<style>#sk-container-id-1 {color: black;background-color: white;}#sk-container-id-1 pre{padding: 0;}#sk-container-id-1 div.sk-toggleable {background-color: white;}#sk-container-id-1 label.sk-toggleable__label {cursor: pointer;display: block;width: 100%;margin-bottom: 0;padding: 0.3em;box-sizing: border-box;text-align: center;}#sk-container-id-1 label.sk-toggleable__label-arrow:before {content: \"▸\";float: left;margin-right: 0.25em;color: #696969;}#sk-container-id-1 label.sk-toggleable__label-arrow:hover:before {color: black;}#sk-container-id-1 div.sk-estimator:hover label.sk-toggleable__label-arrow:before {color: black;}#sk-container-id-1 div.sk-toggleable__content {max-height: 0;max-width: 0;overflow: hidden;text-align: left;background-color: #f0f8ff;}#sk-container-id-1 div.sk-toggleable__content pre {margin: 0.2em;color: black;border-radius: 0.25em;background-color: #f0f8ff;}#sk-container-id-1 input.sk-toggleable__control:checked~div.sk-toggleable__content {max-height: 200px;max-width: 100%;overflow: auto;}#sk-container-id-1 input.sk-toggleable__control:checked~label.sk-toggleable__label-arrow:before {content: \"▾\";}#sk-container-id-1 div.sk-estimator input.sk-toggleable__control:checked~label.sk-toggleable__label {background-color: #d4ebff;}#sk-container-id-1 div.sk-label input.sk-toggleable__control:checked~label.sk-toggleable__label {background-color: #d4ebff;}#sk-container-id-1 input.sk-hidden--visually {border: 0;clip: rect(1px 1px 1px 1px);clip: rect(1px, 1px, 1px, 1px);height: 1px;margin: -1px;overflow: hidden;padding: 0;position: absolute;width: 1px;}#sk-container-id-1 div.sk-estimator {font-family: monospace;background-color: #f0f8ff;border: 1px dotted black;border-radius: 0.25em;box-sizing: border-box;margin-bottom: 0.5em;}#sk-container-id-1 div.sk-estimator:hover {background-color: #d4ebff;}#sk-container-id-1 div.sk-parallel-item::after {content: \"\";width: 100%;border-bottom: 1px solid gray;flex-grow: 1;}#sk-container-id-1 div.sk-label:hover label.sk-toggleable__label {background-color: #d4ebff;}#sk-container-id-1 div.sk-serial::before {content: \"\";position: absolute;border-left: 1px solid gray;box-sizing: border-box;top: 0;bottom: 0;left: 50%;z-index: 0;}#sk-container-id-1 div.sk-serial {display: flex;flex-direction: column;align-items: center;background-color: white;padding-right: 0.2em;padding-left: 0.2em;position: relative;}#sk-container-id-1 div.sk-item {position: relative;z-index: 1;}#sk-container-id-1 div.sk-parallel {display: flex;align-items: stretch;justify-content: center;background-color: white;position: relative;}#sk-container-id-1 div.sk-item::before, #sk-container-id-1 div.sk-parallel-item::before {content: \"\";position: absolute;border-left: 1px solid gray;box-sizing: border-box;top: 0;bottom: 0;left: 50%;z-index: -1;}#sk-container-id-1 div.sk-parallel-item {display: flex;flex-direction: column;z-index: 1;position: relative;background-color: white;}#sk-container-id-1 div.sk-parallel-item:first-child::after {align-self: flex-end;width: 50%;}#sk-container-id-1 div.sk-parallel-item:last-child::after {align-self: flex-start;width: 50%;}#sk-container-id-1 div.sk-parallel-item:only-child::after {width: 0;}#sk-container-id-1 div.sk-dashed-wrapped {border: 1px dashed gray;margin: 0 0.4em 0.5em 0.4em;box-sizing: border-box;padding-bottom: 0.4em;background-color: white;}#sk-container-id-1 div.sk-label label {font-family: monospace;font-weight: bold;display: inline-block;line-height: 1.2em;}#sk-container-id-1 div.sk-label-container {text-align: center;}#sk-container-id-1 div.sk-container {/* jupyter's `normalize.less` sets `[hidden] { display: none; }` but bootstrap.min.css set `[hidden] { display: none !important; }` so we also need the `!important` here to be able to override the default hidden behavior on the sphinx rendered scikit-learn.org. See: https://github.com/scikit-learn/scikit-learn/issues/21755 */display: inline-block !important;position: relative;}#sk-container-id-1 div.sk-text-repr-fallback {display: none;}</style><div id=\"sk-container-id-1\" class=\"sk-top-container\"><div class=\"sk-text-repr-fallback\"><pre>TfidfVectorizer()</pre><b>In a Jupyter environment, please rerun this cell to show the HTML representation or trust the notebook. <br />On GitHub, the HTML representation is unable to render, please try loading this page with nbviewer.org.</b></div><div class=\"sk-container\" hidden><div class=\"sk-item\"><div class=\"sk-estimator sk-toggleable\"><input class=\"sk-toggleable__control sk-hidden--visually\" id=\"sk-estimator-id-1\" type=\"checkbox\" checked><label for=\"sk-estimator-id-1\" class=\"sk-toggleable__label sk-toggleable__label-arrow\">TfidfVectorizer</label><div class=\"sk-toggleable__content\"><pre>TfidfVectorizer()</pre></div></div></div></div></div>"
            ]
          },
          "metadata": {},
          "execution_count": 29
        }
      ]
    },
    {
      "cell_type": "code",
      "source": [
        "# Melihat Jumlah Fitur\n",
        "print(len(tf_idf.get_feature_names_out()))"
      ],
      "metadata": {
        "colab": {
          "base_uri": "https://localhost:8080/"
        },
        "id": "ZmxoEM65oDXB",
        "outputId": "985148eb-a349-4ead-f550-58e992c2a2bf"
      },
      "execution_count": 30,
      "outputs": [
        {
          "output_type": "stream",
          "name": "stdout",
          "text": [
            "878\n"
          ]
        }
      ]
    },
    {
      "cell_type": "code",
      "source": [
        "# Melihat fitur-fitur apa saja yang ada di dalam corpus\n",
        "print(tf_idf.get_feature_names_out())"
      ],
      "metadata": {
        "colab": {
          "base_uri": "https://localhost:8080/"
        },
        "id": "FDlT9RgxoGAB",
        "outputId": "fad4f93f-ed1b-4bd4-a98f-44e57f66cf2a"
      },
      "execution_count": 31,
      "outputs": [
        {
          "output_type": "stream",
          "name": "stdout",
          "text": [
            "['abis' 'abiss' 'acclaim' 'actingnya' 'action' 'adaptasi' 'adegan' 'aduh'\n",
            " 'aduk' 'after' 'agam' 'agama' 'ah' 'air' 'aj' 'aja' 'ajaa' 'ajak' 'ajar'\n",
            " 'akan' 'akhrnya' 'akting' 'aktor' 'aktris' 'ale' 'alf' 'alien' 'alitalit'\n",
            " 'alur' 'ama' 'amat' 'amazing' 'ambigu' 'amira' 'anak' 'ancur' 'and'\n",
            " 'andibowooo' 'ane' 'aneh' 'angkat' 'anjak' 'anjlok' 'anya' 'apresiasi'\n",
            " 'april' 'arah' 'arthur' 'artis' 'asih' 'asik' 'askmenfess' 'asli'\n",
            " 'astagah' 'aurat' 'awisuryadi' 'baca' 'baekhyun' 'bagus'\n",
            " 'baguskelompoknya' 'bagussss' 'bahagia' 'bahas' 'bahasa' 'baik' 'baja'\n",
            " 'balap' 'balik' 'banding' 'bandung' 'bang' 'bangat' 'banget' 'bangetbuat'\n",
            " 'bangetkalian' 'bangettt' 'bangga' 'banggafilmindonesia' 'bangsa' 'bangt'\n",
            " 'banyak' 'bapak' 'bareng' 'baru' 'barusan' 'batal' 'batas' 'bawa' 'bawah'\n",
            " 'bayang' 'bayar' 'bebas' 'beda' 'beexkuanlin' 'begadang' 'belah' 'belang'\n",
            " 'benar' 'bener' 'benerbener' 'benerseru' 'bentar' 'berat' 'berbudget'\n",
            " 'berekspektasi' 'berkalikali' 'best' 'besut' 'betapa' 'bewe' 'bg' 'bgni'\n",
            " 'bgt' 'bgtu' 'bgussayangnya' 'bhineka' 'biasapemikiran' 'bikin' 'bilang'\n",
            " 'bingittsss' 'bingung' 'biografi' 'bioskop' 'bkin' 'bkn' 'black' 'blg'\n",
            " 'blm' 'bloopernya' 'bluray' 'bngt' 'bnr' 'bnyak' 'bodoh' 'bom' 'boring'\n",
            " 'bosan' 'bosen' 'bravo' 'britney' 'brulang' 'bs' 'btind' 'btw' 'buat'\n",
            " 'budaya' 'budget' 'budgetnya' 'buka' 'buku' 'bukuny' 'bulter' 'bumbu'\n",
            " 'bun' 'buried' 'bus' 'busuk' 'bw' 'byk' 'campur' 'catat' 'ce' 'cek'\n",
            " 'celotehpagi' 'cema' 'cenayangfilm' 'cenderung' 'cepetan' 'cerita'\n",
            " 'ceritany' 'cewe' 'cinta' 'coba' 'cocok' 'comedy' 'conan' 'covenant'\n",
            " 'cowok' 'creatif' 'creepy' 'critanya' 'critical' 'criticaleleven' 'cucu'\n",
            " 'cuman' 'cut' 'dada' 'dah' 'danur' 'danurmovie' 'dapat' 'dapet' 'datar'\n",
            " 'daur' 'dear' 'deh' 'depresi' 'derita' 'dewasa' 'dgn' 'dhikefact' 'dian'\n",
            " 'didik' 'dihabisken' 'diharepin' 'dikit' 'dimension' 'dingertiin'\n",
            " 'divergent' 'dkk' 'dlm' 'dng' 'doang' 'dominasi' 'download' 'dpt' 'dr'\n",
            " 'dramatis' 'drastis' 'dri' 'dua' 'duga' 'duh' 'duit' 'dukung' 'dungu'\n",
            " 'durasi' 'editingnya' 'eh' 'ekspektasi' 'ekspektasinya' 'ekspetasi'\n",
            " 'eleven' 'embel' 'emg' 'emosi' 'emosional' 'enak' 'ending' 'endingnya'\n",
            " 'enggan' 'epic' 'ernes' 'ernest' 'ernestprakasa' 'erti' 'ever' 'expresi'\n",
            " 'factrica' 'fakta' 'falsafah' 'fargo' 'fast' 'favorit' 'favorite'\n",
            " 'feature' 'feel' 'fff' 'film' 'filmfilm' 'filmkartini' 'filmya'\n",
            " 'filmziarah' 'flm' 'for' 'furious' 'furiousmenurutku' 'ga' 'gadapet'\n",
            " 'gading' 'gagal' 'gak' 'gamau' 'gambar' 'gampang' 'gapernah' 'garagara'\n",
            " 'garap' 'gausah' 'gede' 'gedung' 'gegara' 'gembira' 'generasi' 'gera'\n",
            " 'get' 'getout' 'getoutmovie' 'gila' 'gimana' 'gin' 'gitu' 'gk' 'goal'\n",
            " 'gokil' 'gold' 'good' 'greatbos' 'greget' 'gua' 'gue' 'guru' 'guys' 'gw'\n",
            " 'gwa' 'habis' 'haha' 'hambar' 'hambarr' 'hancurin' 'hangout' 'hans'\n",
            " 'hansdavidian' 'hanungbramantyo' 'hanyut' 'hape' 'harap' 'harga'\n",
            " 'haruuuu' 'hasil' 'hehehe' 'hehehehe' 'hemmmm' 'hibur' 'hidung' 'hidup'\n",
            " 'homo' 'hoo' 'horor' 'horror' 'hrs' 'huehe' 'hufy' 'ikanatassa' 'image'\n",
            " 'imdb' 'indonesia' 'indonesiakrn' 'indonesiamereka' 'ingat' 'insidious'\n",
            " 'inspirasi' 'inspiratifnya' 'instrospeksi' 'insyaallahsah' 'intern'\n",
            " 'inti' 'ironis' 'isi' 'island' 'itutertidur' 'jadi' 'jadiin' 'jaga'\n",
            " 'jalan' 'jam' 'jaman' 'jarang' 'jawa' 'jelek' 'jelekk' 'jenius' 'jenuh'\n",
            " 'jgn' 'jijik' 'jijk' 'jiwa' 'job' 'jordan' 'jual' 'juang' 'judul'\n",
            " 'junjung' 'ka' 'kadang' 'kagum' 'kak' 'kaku' 'kali' 'kalimat' 'kalo'\n",
            " 'kamar' 'kandung' 'kantinidhijabers' 'karakter' 'karna' 'kartini' 'karya'\n",
            " 'kasar' 'kasi' 'kasih' 'kategori' 'kaulahtakdirkumembelamu' 'kawin'\n",
            " 'kaya' 'kece' 'kecewa' 'kecewaa' 'kelar' 'kelas' 'kelinci' 'keluarga'\n",
            " 'ken' 'kenal' 'kentel' 'kepala' 'kereen' 'keren' 'kerja' 'kern' 'kes'\n",
            " 'ketawa' 'ketimbang' 'kgn' 'khawatir' 'king' 'kirain' 'kisah' 'kli' 'klo'\n",
            " 'klu' 'kmren' 'kmrn' 'knapa' 'kocak' 'koh' 'komedi' 'komplit' 'kondisi'\n",
            " 'konflik' 'kong' 'korea' 'krn' 'krna' 'ksini' 'kta' 'kualitas' 'kuasa'\n",
            " 'kuat' 'kuno' 'kyk' 'lagiii' 'laku' 'langsung' 'lanjut' 'lap' 'lapor'\n",
            " 'laris' 'layak' 'layar' 'layardrama' 'ledak' 'legacypictures' 'lelah'\n",
            " 'lelaki' 'lemah' 'lgsg' 'lho' 'liat' 'lihat' 'lipat' 'llike' 'lo' 'loh'\n",
            " 'lokal' 'lol' 'lompat' 'long' 'lovely' 'lu' 'luar' 'luarbiasa' 'lucu'\n",
            " 'lumayan' 'lumyan' 'lupa' 'ma' 'main' 'maju' 'makna' 'malam' 'malem'\n",
            " 'malesan' 'mall' 'mama' 'mana' 'manojpunjabi' 'maret' 'marvel' 'mas'\n",
            " 'masuk' 'mata' 'mati' 'mbah' 'mbuh' 'mcimall' 'me' 'meantweets' 'mei'\n",
            " 'meiberziarah' 'membabibuta' 'memgecewakan' 'menang' 'mendeliver'\n",
            " 'mending' 'menit' 'mesir' 'mewek' 'mikir' 'minggu' 'minim' 'minta'\n",
            " 'miris' 'misteri' 'mkir' 'mmbiarkan' 'mnrt' 'mobil' 'moga' 'moment'\n",
            " 'moral' 'motivasi' 'moveon' 'movie' 'mrk' 'msh' 'mslh' 'mu' 'muat' 'muda'\n",
            " 'mudah' 'mummy' 'murah' 'mutu' 'nama' 'nang' 'narasi' 'naruto' 'nasional'\n",
            " 'negara' 'nemenin' 'nemu' 'nenek' 'neng' 'netizen' 'ngageting' 'ngajak'\n",
            " 'ngakak' 'ngandelin' 'ngapain' 'ngehek' 'ngerasa' 'ngerasain' 'ngertiin'\n",
            " 'ngga' 'nggak' 'ngiang' 'ngliatin' 'ni' 'niat' 'night' 'nightmare' 'nih'\n",
            " 'nihh' 'nikmat' 'nilai' 'nista' 'nntn' 'nnton' 'nobar' 'nol' 'nonton'\n",
            " 'nontonnya' 'norak' 'novel' 'ntar' 'ntn' 'nunggu' 'nungguin' 'nya'\n",
            " 'nyakaya' 'nyaman' 'nyari' 'nyata' 'nyedot' 'nyesel' 'nysel' 'obsessed'\n",
            " 'ogah' 'oke' 'openingnya' 'orang' 'oscar' 'out' 'pagi' 'paket' 'pandang'\n",
            " 'pandji' 'papa' 'parah' 'pas' 'pasang' 'pasar' 'pasca' 'patut' 'pd'\n",
            " 'pdahl' 'pdhl' 'pecah' 'peele' 'peluk' 'pemamarannya' 'penasaran'\n",
            " 'pengaruh' 'penuh' 'per' 'peran' 'perang' 'percaya' 'perdana' 'perempuan'\n",
            " 'pertama' 'pesan' 'pesbukers' 'petik' 'pgn' 'pikir' 'pilih' 'pirsa'\n",
            " 'pkoknya' 'plg' 'plot' 'poko' 'pokok' 'ponco' 'postcredit' 'potong'\n",
            " 'power' 'premis' 'prilly' 'prillybie' 'produksi' 'produser' 'proses'\n",
            " 'puas' 'putar' 'quote' 'radit' 'raditya' 'radityadika' 'ragu' 'rangers'\n",
            " 'ratattote' 'ratingnya' 'rcti' 'recomended' 'recommended' 'rekomended'\n",
            " 'relevan' 'rem' 'resah' 'respect' 'retak' 'review' 'rezaadinia' 'ribet'\n",
            " 'rilis' 'ringan' 'riset' 'romance' 'romanharusbertahan' 'romantis'\n",
            " 'rompisrepost' 'rp' 'rt' 'rugi' 'rujuk' 'rumit' 'rusak' 'rusia' 'sabar'\n",
            " 'sahabat' 'saji' 'sakit' 'salah' 'salut' 'sama' 'samar' 'sampah' 'sampe'\n",
            " 'sanasini' 'sastro' 'satu' 'satusatunya' 'say' 'sayang' 'sblm' 'sbnrnya'\n",
            " 'scene' 'screensaversid' 'season' 'sebenernya' 'sebnarnya' 'sederhana'\n",
            " 'sedih' 'segalay' 'sejarah' 'seksi' 'selamat' 'selera' 'selesai'\n",
            " 'selliyamanto' 'sempat' 'sempet' 'sen' 'senang' 'sensor' 'seragam'\n",
            " 'serakah' 'seriesnya' 'serius' 'seru' 'sesal' 'sesuai' 'sesungguhny'\n",
            " 'setan' 'setia' 'sex' 'si' 'sih' 'sila' 'simak' 'simple' 'singkat' 'situ'\n",
            " 'skip' 'skrg' 'skull' 'slalu' 'slamat' 'sllu' 'sm' 'sma' 'smp' 'smpai'\n",
            " 'smpe' 'sndiri' 'sok' 'sorayafilms' 'sorry' 'sosok' 'special'\n",
            " 'speechless' 'spektakuler' 'sperti' 'spicles' 'sri' 'stlh' 'sudah'\n",
            " 'sudut' 'suka' 'sukses' 'sumpah' 'sungguh' 'susah' 'sutradara' 'sy'\n",
            " 'syahadat' 'syukur' 'tahun' 'takdir' 'takut' 'tambah' 'tampil' 'tangan'\n",
            " 'tanggal' 'tarik' 'tau' 'tayang' 'team' 'teaser' 'tebak' 'tegang' 'teh'\n",
            " 'telat' 'tema' 'teman' 'temen' 'temu' 'tenang' 'tengah' 'terbang'\n",
            " 'terimakasi' 'terllu' 'tetep' 'thank' 'thanks' 'the' 'thebossbaby'\n",
            " 'theguysquiz' 'themummy' 'therealdisastr' 'this' 'thn' 'thur' 'tidur'\n",
            " 'tiket' 'tim' 'tinggal' 'tinggi' 'tingkat' 'tipe' 'titik' 'tjoy' 'tk'\n",
            " 'tll' 'tmen' 'tmn' 'tnx' 'to' 'today' 'toko' 'tokoh' 'tolong' 'tom'\n",
            " 'tonton' 'tontonlogan' 'totalitas' 'tp' 'trailer' 'tread' 'trjadi'\n",
            " 'trlalu' 'trsa' 'trust' 'ttg' 'tu' 'tua' 'tugas' 'tuhan' 'tuju' 'tunggu'\n",
            " 'turun' 'turut' 'uda' 'udah' 'udh' 'uji' 'ulang' 'umur' 'unaazizah'\n",
            " 'unlocked' 'unsur' 'utk' 'video' 'visual' 'vlog' 'wajib' 'warganet'\n",
            " 'watch' 'waw' 'weekend' 'weird' 'what' 'wib' 'wkwk' 'woman' 'wonder'\n",
            " 'worth' 'ya' 'yah' 'yanskii' 'yaoi' 'yg' 'you' 'youtube' 'yuk' 'ziarah']\n"
          ]
        }
      ]
    },
    {
      "cell_type": "code",
      "source": [
        "# Melihat matriks jumlah token\n",
        "# Data ini siap untuk dimasukkan dalam proses pemodelan (machine learning)\n",
        "\n",
        "X_tf_idf = tf_idf.transform(X).toarray()\n",
        "X_tf_idf"
      ],
      "metadata": {
        "colab": {
          "base_uri": "https://localhost:8080/"
        },
        "id": "syMryCtDoIpZ",
        "outputId": "51a1f66e-b809-4a76-bb3f-8c35d64228f7"
      },
      "execution_count": 32,
      "outputs": [
        {
          "output_type": "execute_result",
          "data": {
            "text/plain": [
              "array([[0., 0., 0., ..., 0., 0., 0.],\n",
              "       [0., 0., 0., ..., 0., 0., 0.],\n",
              "       [0., 0., 0., ..., 0., 0., 0.],\n",
              "       ...,\n",
              "       [0., 0., 0., ..., 0., 0., 0.],\n",
              "       [0., 0., 0., ..., 0., 0., 0.],\n",
              "       [0., 0., 0., ..., 0., 0., 0.]])"
            ]
          },
          "metadata": {},
          "execution_count": 32
        }
      ]
    },
    {
      "cell_type": "code",
      "source": [
        "# Melihat matriks jumlah token menggunakan TF IDF, lihat perbedaannya dengan metode BoW\n",
        "# Data ini siap untuk dimasukkan dalam proses pemodelan (machine learning)\n",
        "\n",
        "data_tf_idf = pd.DataFrame(X_tf_idf, columns=tf_idf.get_feature_names_out())\n",
        "data_tf_idf"
      ],
      "metadata": {
        "colab": {
          "base_uri": "https://localhost:8080/",
          "height": 468
        },
        "id": "sI7tYI4xoMzr",
        "outputId": "3670797f-c248-49f4-f178-1e76c329353a"
      },
      "execution_count": 33,
      "outputs": [
        {
          "output_type": "execute_result",
          "data": {
            "text/plain": [
              "     abis  abiss  acclaim  actingnya  action  adaptasi  adegan  aduh  aduk  \\\n",
              "0     0.0    0.0      0.0   0.403277     0.0   0.00000     0.0   0.0   0.0   \n",
              "1     0.0    0.0      0.0   0.000000     0.0   0.00000     0.0   0.0   0.0   \n",
              "2     0.0    0.0      0.0   0.000000     0.0   0.00000     0.0   0.0   0.0   \n",
              "3     0.0    0.0      0.0   0.000000     0.0   0.00000     0.0   0.0   0.0   \n",
              "4     0.0    0.0      0.0   0.000000     0.0   0.00000     0.0   0.0   0.0   \n",
              "..    ...    ...      ...        ...     ...       ...     ...   ...   ...   \n",
              "195   0.0    0.0      0.0   0.000000     0.0   0.37323     0.0   0.0   0.0   \n",
              "196   0.0    0.0      0.0   0.000000     0.0   0.00000     0.0   0.0   0.0   \n",
              "197   0.0    0.0      0.0   0.000000     0.0   0.00000     0.0   0.0   0.0   \n",
              "198   0.0    0.0      0.0   0.000000     0.0   0.00000     0.0   0.0   0.0   \n",
              "199   0.0    0.0      0.0   0.000000     0.0   0.00000     0.0   0.0   0.0   \n",
              "\n",
              "     after  ...  worth        ya  yah  yanskii      yaoi        yg  you  \\\n",
              "0      0.0  ...    0.0  0.000000  0.0      0.0  0.000000  0.000000  0.0   \n",
              "1      0.0  ...    0.0  0.000000  0.0      0.0  0.000000  0.000000  0.0   \n",
              "2      0.0  ...    0.0  0.000000  0.0      0.0  0.000000  0.000000  0.0   \n",
              "3      0.0  ...    0.0  0.262008  0.0      0.0  0.000000  0.000000  0.0   \n",
              "4      0.0  ...    0.0  0.000000  0.0      0.0  0.237566  0.000000  0.0   \n",
              "..     ...  ...    ...       ...  ...      ...       ...       ...  ...   \n",
              "195    0.0  ...    0.0  0.000000  0.0      0.0  0.000000  0.000000  0.0   \n",
              "196    0.0  ...    0.0  0.000000  0.0      0.0  0.000000  0.000000  0.0   \n",
              "197    0.0  ...    0.0  0.000000  0.0      0.0  0.000000  0.132551  0.0   \n",
              "198    0.0  ...    0.0  0.000000  0.0      0.0  0.000000  0.283690  0.0   \n",
              "199    0.0  ...    0.0  0.000000  0.0      0.0  0.000000  0.000000  0.0   \n",
              "\n",
              "     youtube  yuk  ziarah  \n",
              "0        0.0  0.0     0.0  \n",
              "1        0.0  0.0     0.0  \n",
              "2        0.0  0.0     0.0  \n",
              "3        0.0  0.0     0.0  \n",
              "4        0.0  0.0     0.0  \n",
              "..       ...  ...     ...  \n",
              "195      0.0  0.0     0.0  \n",
              "196      0.0  0.0     0.0  \n",
              "197      0.0  0.0     0.0  \n",
              "198      0.0  0.0     0.0  \n",
              "199      0.0  0.0     0.0  \n",
              "\n",
              "[200 rows x 878 columns]"
            ],
            "text/html": [
              "\n",
              "  <div id=\"df-409e4976-7ef4-4acc-974b-c262d9048804\">\n",
              "    <div class=\"colab-df-container\">\n",
              "      <div>\n",
              "<style scoped>\n",
              "    .dataframe tbody tr th:only-of-type {\n",
              "        vertical-align: middle;\n",
              "    }\n",
              "\n",
              "    .dataframe tbody tr th {\n",
              "        vertical-align: top;\n",
              "    }\n",
              "\n",
              "    .dataframe thead th {\n",
              "        text-align: right;\n",
              "    }\n",
              "</style>\n",
              "<table border=\"1\" class=\"dataframe\">\n",
              "  <thead>\n",
              "    <tr style=\"text-align: right;\">\n",
              "      <th></th>\n",
              "      <th>abis</th>\n",
              "      <th>abiss</th>\n",
              "      <th>acclaim</th>\n",
              "      <th>actingnya</th>\n",
              "      <th>action</th>\n",
              "      <th>adaptasi</th>\n",
              "      <th>adegan</th>\n",
              "      <th>aduh</th>\n",
              "      <th>aduk</th>\n",
              "      <th>after</th>\n",
              "      <th>...</th>\n",
              "      <th>worth</th>\n",
              "      <th>ya</th>\n",
              "      <th>yah</th>\n",
              "      <th>yanskii</th>\n",
              "      <th>yaoi</th>\n",
              "      <th>yg</th>\n",
              "      <th>you</th>\n",
              "      <th>youtube</th>\n",
              "      <th>yuk</th>\n",
              "      <th>ziarah</th>\n",
              "    </tr>\n",
              "  </thead>\n",
              "  <tbody>\n",
              "    <tr>\n",
              "      <th>0</th>\n",
              "      <td>0.0</td>\n",
              "      <td>0.0</td>\n",
              "      <td>0.0</td>\n",
              "      <td>0.403277</td>\n",
              "      <td>0.0</td>\n",
              "      <td>0.00000</td>\n",
              "      <td>0.0</td>\n",
              "      <td>0.0</td>\n",
              "      <td>0.0</td>\n",
              "      <td>0.0</td>\n",
              "      <td>...</td>\n",
              "      <td>0.0</td>\n",
              "      <td>0.000000</td>\n",
              "      <td>0.0</td>\n",
              "      <td>0.0</td>\n",
              "      <td>0.000000</td>\n",
              "      <td>0.000000</td>\n",
              "      <td>0.0</td>\n",
              "      <td>0.0</td>\n",
              "      <td>0.0</td>\n",
              "      <td>0.0</td>\n",
              "    </tr>\n",
              "    <tr>\n",
              "      <th>1</th>\n",
              "      <td>0.0</td>\n",
              "      <td>0.0</td>\n",
              "      <td>0.0</td>\n",
              "      <td>0.000000</td>\n",
              "      <td>0.0</td>\n",
              "      <td>0.00000</td>\n",
              "      <td>0.0</td>\n",
              "      <td>0.0</td>\n",
              "      <td>0.0</td>\n",
              "      <td>0.0</td>\n",
              "      <td>...</td>\n",
              "      <td>0.0</td>\n",
              "      <td>0.000000</td>\n",
              "      <td>0.0</td>\n",
              "      <td>0.0</td>\n",
              "      <td>0.000000</td>\n",
              "      <td>0.000000</td>\n",
              "      <td>0.0</td>\n",
              "      <td>0.0</td>\n",
              "      <td>0.0</td>\n",
              "      <td>0.0</td>\n",
              "    </tr>\n",
              "    <tr>\n",
              "      <th>2</th>\n",
              "      <td>0.0</td>\n",
              "      <td>0.0</td>\n",
              "      <td>0.0</td>\n",
              "      <td>0.000000</td>\n",
              "      <td>0.0</td>\n",
              "      <td>0.00000</td>\n",
              "      <td>0.0</td>\n",
              "      <td>0.0</td>\n",
              "      <td>0.0</td>\n",
              "      <td>0.0</td>\n",
              "      <td>...</td>\n",
              "      <td>0.0</td>\n",
              "      <td>0.000000</td>\n",
              "      <td>0.0</td>\n",
              "      <td>0.0</td>\n",
              "      <td>0.000000</td>\n",
              "      <td>0.000000</td>\n",
              "      <td>0.0</td>\n",
              "      <td>0.0</td>\n",
              "      <td>0.0</td>\n",
              "      <td>0.0</td>\n",
              "    </tr>\n",
              "    <tr>\n",
              "      <th>3</th>\n",
              "      <td>0.0</td>\n",
              "      <td>0.0</td>\n",
              "      <td>0.0</td>\n",
              "      <td>0.000000</td>\n",
              "      <td>0.0</td>\n",
              "      <td>0.00000</td>\n",
              "      <td>0.0</td>\n",
              "      <td>0.0</td>\n",
              "      <td>0.0</td>\n",
              "      <td>0.0</td>\n",
              "      <td>...</td>\n",
              "      <td>0.0</td>\n",
              "      <td>0.262008</td>\n",
              "      <td>0.0</td>\n",
              "      <td>0.0</td>\n",
              "      <td>0.000000</td>\n",
              "      <td>0.000000</td>\n",
              "      <td>0.0</td>\n",
              "      <td>0.0</td>\n",
              "      <td>0.0</td>\n",
              "      <td>0.0</td>\n",
              "    </tr>\n",
              "    <tr>\n",
              "      <th>4</th>\n",
              "      <td>0.0</td>\n",
              "      <td>0.0</td>\n",
              "      <td>0.0</td>\n",
              "      <td>0.000000</td>\n",
              "      <td>0.0</td>\n",
              "      <td>0.00000</td>\n",
              "      <td>0.0</td>\n",
              "      <td>0.0</td>\n",
              "      <td>0.0</td>\n",
              "      <td>0.0</td>\n",
              "      <td>...</td>\n",
              "      <td>0.0</td>\n",
              "      <td>0.000000</td>\n",
              "      <td>0.0</td>\n",
              "      <td>0.0</td>\n",
              "      <td>0.237566</td>\n",
              "      <td>0.000000</td>\n",
              "      <td>0.0</td>\n",
              "      <td>0.0</td>\n",
              "      <td>0.0</td>\n",
              "      <td>0.0</td>\n",
              "    </tr>\n",
              "    <tr>\n",
              "      <th>...</th>\n",
              "      <td>...</td>\n",
              "      <td>...</td>\n",
              "      <td>...</td>\n",
              "      <td>...</td>\n",
              "      <td>...</td>\n",
              "      <td>...</td>\n",
              "      <td>...</td>\n",
              "      <td>...</td>\n",
              "      <td>...</td>\n",
              "      <td>...</td>\n",
              "      <td>...</td>\n",
              "      <td>...</td>\n",
              "      <td>...</td>\n",
              "      <td>...</td>\n",
              "      <td>...</td>\n",
              "      <td>...</td>\n",
              "      <td>...</td>\n",
              "      <td>...</td>\n",
              "      <td>...</td>\n",
              "      <td>...</td>\n",
              "      <td>...</td>\n",
              "    </tr>\n",
              "    <tr>\n",
              "      <th>195</th>\n",
              "      <td>0.0</td>\n",
              "      <td>0.0</td>\n",
              "      <td>0.0</td>\n",
              "      <td>0.000000</td>\n",
              "      <td>0.0</td>\n",
              "      <td>0.37323</td>\n",
              "      <td>0.0</td>\n",
              "      <td>0.0</td>\n",
              "      <td>0.0</td>\n",
              "      <td>0.0</td>\n",
              "      <td>...</td>\n",
              "      <td>0.0</td>\n",
              "      <td>0.000000</td>\n",
              "      <td>0.0</td>\n",
              "      <td>0.0</td>\n",
              "      <td>0.000000</td>\n",
              "      <td>0.000000</td>\n",
              "      <td>0.0</td>\n",
              "      <td>0.0</td>\n",
              "      <td>0.0</td>\n",
              "      <td>0.0</td>\n",
              "    </tr>\n",
              "    <tr>\n",
              "      <th>196</th>\n",
              "      <td>0.0</td>\n",
              "      <td>0.0</td>\n",
              "      <td>0.0</td>\n",
              "      <td>0.000000</td>\n",
              "      <td>0.0</td>\n",
              "      <td>0.00000</td>\n",
              "      <td>0.0</td>\n",
              "      <td>0.0</td>\n",
              "      <td>0.0</td>\n",
              "      <td>0.0</td>\n",
              "      <td>...</td>\n",
              "      <td>0.0</td>\n",
              "      <td>0.000000</td>\n",
              "      <td>0.0</td>\n",
              "      <td>0.0</td>\n",
              "      <td>0.000000</td>\n",
              "      <td>0.000000</td>\n",
              "      <td>0.0</td>\n",
              "      <td>0.0</td>\n",
              "      <td>0.0</td>\n",
              "      <td>0.0</td>\n",
              "    </tr>\n",
              "    <tr>\n",
              "      <th>197</th>\n",
              "      <td>0.0</td>\n",
              "      <td>0.0</td>\n",
              "      <td>0.0</td>\n",
              "      <td>0.000000</td>\n",
              "      <td>0.0</td>\n",
              "      <td>0.00000</td>\n",
              "      <td>0.0</td>\n",
              "      <td>0.0</td>\n",
              "      <td>0.0</td>\n",
              "      <td>0.0</td>\n",
              "      <td>...</td>\n",
              "      <td>0.0</td>\n",
              "      <td>0.000000</td>\n",
              "      <td>0.0</td>\n",
              "      <td>0.0</td>\n",
              "      <td>0.000000</td>\n",
              "      <td>0.132551</td>\n",
              "      <td>0.0</td>\n",
              "      <td>0.0</td>\n",
              "      <td>0.0</td>\n",
              "      <td>0.0</td>\n",
              "    </tr>\n",
              "    <tr>\n",
              "      <th>198</th>\n",
              "      <td>0.0</td>\n",
              "      <td>0.0</td>\n",
              "      <td>0.0</td>\n",
              "      <td>0.000000</td>\n",
              "      <td>0.0</td>\n",
              "      <td>0.00000</td>\n",
              "      <td>0.0</td>\n",
              "      <td>0.0</td>\n",
              "      <td>0.0</td>\n",
              "      <td>0.0</td>\n",
              "      <td>...</td>\n",
              "      <td>0.0</td>\n",
              "      <td>0.000000</td>\n",
              "      <td>0.0</td>\n",
              "      <td>0.0</td>\n",
              "      <td>0.000000</td>\n",
              "      <td>0.283690</td>\n",
              "      <td>0.0</td>\n",
              "      <td>0.0</td>\n",
              "      <td>0.0</td>\n",
              "      <td>0.0</td>\n",
              "    </tr>\n",
              "    <tr>\n",
              "      <th>199</th>\n",
              "      <td>0.0</td>\n",
              "      <td>0.0</td>\n",
              "      <td>0.0</td>\n",
              "      <td>0.000000</td>\n",
              "      <td>0.0</td>\n",
              "      <td>0.00000</td>\n",
              "      <td>0.0</td>\n",
              "      <td>0.0</td>\n",
              "      <td>0.0</td>\n",
              "      <td>0.0</td>\n",
              "      <td>...</td>\n",
              "      <td>0.0</td>\n",
              "      <td>0.000000</td>\n",
              "      <td>0.0</td>\n",
              "      <td>0.0</td>\n",
              "      <td>0.000000</td>\n",
              "      <td>0.000000</td>\n",
              "      <td>0.0</td>\n",
              "      <td>0.0</td>\n",
              "      <td>0.0</td>\n",
              "      <td>0.0</td>\n",
              "    </tr>\n",
              "  </tbody>\n",
              "</table>\n",
              "<p>200 rows × 878 columns</p>\n",
              "</div>\n",
              "      <button class=\"colab-df-convert\" onclick=\"convertToInteractive('df-409e4976-7ef4-4acc-974b-c262d9048804')\"\n",
              "              title=\"Convert this dataframe to an interactive table.\"\n",
              "              style=\"display:none;\">\n",
              "        \n",
              "  <svg xmlns=\"http://www.w3.org/2000/svg\" height=\"24px\"viewBox=\"0 0 24 24\"\n",
              "       width=\"24px\">\n",
              "    <path d=\"M0 0h24v24H0V0z\" fill=\"none\"/>\n",
              "    <path d=\"M18.56 5.44l.94 2.06.94-2.06 2.06-.94-2.06-.94-.94-2.06-.94 2.06-2.06.94zm-11 1L8.5 8.5l.94-2.06 2.06-.94-2.06-.94L8.5 2.5l-.94 2.06-2.06.94zm10 10l.94 2.06.94-2.06 2.06-.94-2.06-.94-.94-2.06-.94 2.06-2.06.94z\"/><path d=\"M17.41 7.96l-1.37-1.37c-.4-.4-.92-.59-1.43-.59-.52 0-1.04.2-1.43.59L10.3 9.45l-7.72 7.72c-.78.78-.78 2.05 0 2.83L4 21.41c.39.39.9.59 1.41.59.51 0 1.02-.2 1.41-.59l7.78-7.78 2.81-2.81c.8-.78.8-2.07 0-2.86zM5.41 20L4 18.59l7.72-7.72 1.47 1.35L5.41 20z\"/>\n",
              "  </svg>\n",
              "      </button>\n",
              "      \n",
              "  <style>\n",
              "    .colab-df-container {\n",
              "      display:flex;\n",
              "      flex-wrap:wrap;\n",
              "      gap: 12px;\n",
              "    }\n",
              "\n",
              "    .colab-df-convert {\n",
              "      background-color: #E8F0FE;\n",
              "      border: none;\n",
              "      border-radius: 50%;\n",
              "      cursor: pointer;\n",
              "      display: none;\n",
              "      fill: #1967D2;\n",
              "      height: 32px;\n",
              "      padding: 0 0 0 0;\n",
              "      width: 32px;\n",
              "    }\n",
              "\n",
              "    .colab-df-convert:hover {\n",
              "      background-color: #E2EBFA;\n",
              "      box-shadow: 0px 1px 2px rgba(60, 64, 67, 0.3), 0px 1px 3px 1px rgba(60, 64, 67, 0.15);\n",
              "      fill: #174EA6;\n",
              "    }\n",
              "\n",
              "    [theme=dark] .colab-df-convert {\n",
              "      background-color: #3B4455;\n",
              "      fill: #D2E3FC;\n",
              "    }\n",
              "\n",
              "    [theme=dark] .colab-df-convert:hover {\n",
              "      background-color: #434B5C;\n",
              "      box-shadow: 0px 1px 3px 1px rgba(0, 0, 0, 0.15);\n",
              "      filter: drop-shadow(0px 1px 2px rgba(0, 0, 0, 0.3));\n",
              "      fill: #FFFFFF;\n",
              "    }\n",
              "  </style>\n",
              "\n",
              "      <script>\n",
              "        const buttonEl =\n",
              "          document.querySelector('#df-409e4976-7ef4-4acc-974b-c262d9048804 button.colab-df-convert');\n",
              "        buttonEl.style.display =\n",
              "          google.colab.kernel.accessAllowed ? 'block' : 'none';\n",
              "\n",
              "        async function convertToInteractive(key) {\n",
              "          const element = document.querySelector('#df-409e4976-7ef4-4acc-974b-c262d9048804');\n",
              "          const dataTable =\n",
              "            await google.colab.kernel.invokeFunction('convertToInteractive',\n",
              "                                                     [key], {});\n",
              "          if (!dataTable) return;\n",
              "\n",
              "          const docLinkHtml = 'Like what you see? Visit the ' +\n",
              "            '<a target=\"_blank\" href=https://colab.research.google.com/notebooks/data_table.ipynb>data table notebook</a>'\n",
              "            + ' to learn more about interactive tables.';\n",
              "          element.innerHTML = '';\n",
              "          dataTable['output_type'] = 'display_data';\n",
              "          await google.colab.output.renderOutput(dataTable, element);\n",
              "          const docLink = document.createElement('div');\n",
              "          docLink.innerHTML = docLinkHtml;\n",
              "          element.appendChild(docLink);\n",
              "        }\n",
              "      </script>\n",
              "    </div>\n",
              "  </div>\n",
              "  "
            ]
          },
          "metadata": {},
          "execution_count": 33
        }
      ]
    },
    {
      "cell_type": "code",
      "source": [
        "with open('tf_idf_feature.pickle', 'wb') as output:\n",
        "  pickle.dump(X_tf_idf, output)"
      ],
      "metadata": {
        "id": "yPNofP30oPqv"
      },
      "execution_count": 34,
      "outputs": []
    },
    {
      "cell_type": "markdown",
      "source": [
        "**Feature Selection (Chi Square)**"
      ],
      "metadata": {
        "id": "F3pz1YOnrh9p"
      }
    },
    {
      "cell_type": "code",
      "source": [
        "# Mengubah nilai data tabular tf-idf menjadi array agar dapat dijalankan pada proses seleksi fitur\n",
        "X = np.array(data_tf_idf)\n",
        "y = np.array(y)"
      ],
      "metadata": {
        "id": "jzf7xdv-oSTJ"
      },
      "execution_count": 35,
      "outputs": []
    },
    {
      "cell_type": "code",
      "source": [
        "'''\n",
        "Select features according to the k highest scores.\n",
        "https://scikit-learn.org/stable/modules/generated/sklearn.feature_selection.SelectKBest.html\n",
        "\n",
        "Compute chi-squared stats between each non-negative feature and class.\n",
        "https://scikit-learn.org/stable/modules/generated/sklearn.feature_selection.chi2.html\n",
        "'''\n",
        "\n",
        "from sklearn.feature_selection import SelectKBest \n",
        "from sklearn.feature_selection import chi2 \n",
        "\n",
        "# Ten features with highest chi-squared statistics are selected \n",
        "chi2_features = SelectKBest(chi2, k=100) \n",
        "X_kbest_features = chi2_features.fit_transform(X, y) \n",
        "  \n",
        "# Reduced features \n",
        "print('Original feature number:', X.shape[1]) \n",
        "print('Reduced feature number:', X_kbest_features.shape[1]) "
      ],
      "metadata": {
        "colab": {
          "base_uri": "https://localhost:8080/"
        },
        "id": "3MmtVqYYoWFF",
        "outputId": "2ace3c34-58f7-4f94-ee29-6051330b9342"
      },
      "execution_count": 36,
      "outputs": [
        {
          "output_type": "stream",
          "name": "stdout",
          "text": [
            "Original feature number: 878\n",
            "Reduced feature number: 100\n"
          ]
        }
      ]
    },
    {
      "cell_type": "code",
      "source": [
        "# chi2_features.scores_ adalah nilai chi-square, semakin tinggi nilainya maka semakin baik fiturnya\n",
        "data_chi2 = pd.DataFrame(chi2_features.scores_, columns=['nilai'])\n",
        "data_chi2"
      ],
      "metadata": {
        "colab": {
          "base_uri": "https://localhost:8080/",
          "height": 424
        },
        "id": "cSeIZ2d-oZl1",
        "outputId": "41142653-8084-4b3a-b3c9-845190d49a7e"
      },
      "execution_count": 37,
      "outputs": [
        {
          "output_type": "execute_result",
          "data": {
            "text/plain": [
              "        nilai\n",
              "0    0.003708\n",
              "1    0.247537\n",
              "2    0.363339\n",
              "3    0.403277\n",
              "4    0.033334\n",
              "..        ...\n",
              "873  0.002344\n",
              "874  0.286211\n",
              "875  0.414480\n",
              "876  0.354978\n",
              "877  1.810596\n",
              "\n",
              "[878 rows x 1 columns]"
            ],
            "text/html": [
              "\n",
              "  <div id=\"df-c822f0e9-ced1-4aa1-bb85-d994d7a20fe0\">\n",
              "    <div class=\"colab-df-container\">\n",
              "      <div>\n",
              "<style scoped>\n",
              "    .dataframe tbody tr th:only-of-type {\n",
              "        vertical-align: middle;\n",
              "    }\n",
              "\n",
              "    .dataframe tbody tr th {\n",
              "        vertical-align: top;\n",
              "    }\n",
              "\n",
              "    .dataframe thead th {\n",
              "        text-align: right;\n",
              "    }\n",
              "</style>\n",
              "<table border=\"1\" class=\"dataframe\">\n",
              "  <thead>\n",
              "    <tr style=\"text-align: right;\">\n",
              "      <th></th>\n",
              "      <th>nilai</th>\n",
              "    </tr>\n",
              "  </thead>\n",
              "  <tbody>\n",
              "    <tr>\n",
              "      <th>0</th>\n",
              "      <td>0.003708</td>\n",
              "    </tr>\n",
              "    <tr>\n",
              "      <th>1</th>\n",
              "      <td>0.247537</td>\n",
              "    </tr>\n",
              "    <tr>\n",
              "      <th>2</th>\n",
              "      <td>0.363339</td>\n",
              "    </tr>\n",
              "    <tr>\n",
              "      <th>3</th>\n",
              "      <td>0.403277</td>\n",
              "    </tr>\n",
              "    <tr>\n",
              "      <th>4</th>\n",
              "      <td>0.033334</td>\n",
              "    </tr>\n",
              "    <tr>\n",
              "      <th>...</th>\n",
              "      <td>...</td>\n",
              "    </tr>\n",
              "    <tr>\n",
              "      <th>873</th>\n",
              "      <td>0.002344</td>\n",
              "    </tr>\n",
              "    <tr>\n",
              "      <th>874</th>\n",
              "      <td>0.286211</td>\n",
              "    </tr>\n",
              "    <tr>\n",
              "      <th>875</th>\n",
              "      <td>0.414480</td>\n",
              "    </tr>\n",
              "    <tr>\n",
              "      <th>876</th>\n",
              "      <td>0.354978</td>\n",
              "    </tr>\n",
              "    <tr>\n",
              "      <th>877</th>\n",
              "      <td>1.810596</td>\n",
              "    </tr>\n",
              "  </tbody>\n",
              "</table>\n",
              "<p>878 rows × 1 columns</p>\n",
              "</div>\n",
              "      <button class=\"colab-df-convert\" onclick=\"convertToInteractive('df-c822f0e9-ced1-4aa1-bb85-d994d7a20fe0')\"\n",
              "              title=\"Convert this dataframe to an interactive table.\"\n",
              "              style=\"display:none;\">\n",
              "        \n",
              "  <svg xmlns=\"http://www.w3.org/2000/svg\" height=\"24px\"viewBox=\"0 0 24 24\"\n",
              "       width=\"24px\">\n",
              "    <path d=\"M0 0h24v24H0V0z\" fill=\"none\"/>\n",
              "    <path d=\"M18.56 5.44l.94 2.06.94-2.06 2.06-.94-2.06-.94-.94-2.06-.94 2.06-2.06.94zm-11 1L8.5 8.5l.94-2.06 2.06-.94-2.06-.94L8.5 2.5l-.94 2.06-2.06.94zm10 10l.94 2.06.94-2.06 2.06-.94-2.06-.94-.94-2.06-.94 2.06-2.06.94z\"/><path d=\"M17.41 7.96l-1.37-1.37c-.4-.4-.92-.59-1.43-.59-.52 0-1.04.2-1.43.59L10.3 9.45l-7.72 7.72c-.78.78-.78 2.05 0 2.83L4 21.41c.39.39.9.59 1.41.59.51 0 1.02-.2 1.41-.59l7.78-7.78 2.81-2.81c.8-.78.8-2.07 0-2.86zM5.41 20L4 18.59l7.72-7.72 1.47 1.35L5.41 20z\"/>\n",
              "  </svg>\n",
              "      </button>\n",
              "      \n",
              "  <style>\n",
              "    .colab-df-container {\n",
              "      display:flex;\n",
              "      flex-wrap:wrap;\n",
              "      gap: 12px;\n",
              "    }\n",
              "\n",
              "    .colab-df-convert {\n",
              "      background-color: #E8F0FE;\n",
              "      border: none;\n",
              "      border-radius: 50%;\n",
              "      cursor: pointer;\n",
              "      display: none;\n",
              "      fill: #1967D2;\n",
              "      height: 32px;\n",
              "      padding: 0 0 0 0;\n",
              "      width: 32px;\n",
              "    }\n",
              "\n",
              "    .colab-df-convert:hover {\n",
              "      background-color: #E2EBFA;\n",
              "      box-shadow: 0px 1px 2px rgba(60, 64, 67, 0.3), 0px 1px 3px 1px rgba(60, 64, 67, 0.15);\n",
              "      fill: #174EA6;\n",
              "    }\n",
              "\n",
              "    [theme=dark] .colab-df-convert {\n",
              "      background-color: #3B4455;\n",
              "      fill: #D2E3FC;\n",
              "    }\n",
              "\n",
              "    [theme=dark] .colab-df-convert:hover {\n",
              "      background-color: #434B5C;\n",
              "      box-shadow: 0px 1px 3px 1px rgba(0, 0, 0, 0.15);\n",
              "      filter: drop-shadow(0px 1px 2px rgba(0, 0, 0, 0.3));\n",
              "      fill: #FFFFFF;\n",
              "    }\n",
              "  </style>\n",
              "\n",
              "      <script>\n",
              "        const buttonEl =\n",
              "          document.querySelector('#df-c822f0e9-ced1-4aa1-bb85-d994d7a20fe0 button.colab-df-convert');\n",
              "        buttonEl.style.display =\n",
              "          google.colab.kernel.accessAllowed ? 'block' : 'none';\n",
              "\n",
              "        async function convertToInteractive(key) {\n",
              "          const element = document.querySelector('#df-c822f0e9-ced1-4aa1-bb85-d994d7a20fe0');\n",
              "          const dataTable =\n",
              "            await google.colab.kernel.invokeFunction('convertToInteractive',\n",
              "                                                     [key], {});\n",
              "          if (!dataTable) return;\n",
              "\n",
              "          const docLinkHtml = 'Like what you see? Visit the ' +\n",
              "            '<a target=\"_blank\" href=https://colab.research.google.com/notebooks/data_table.ipynb>data table notebook</a>'\n",
              "            + ' to learn more about interactive tables.';\n",
              "          element.innerHTML = '';\n",
              "          dataTable['output_type'] = 'display_data';\n",
              "          await google.colab.output.renderOutput(dataTable, element);\n",
              "          const docLink = document.createElement('div');\n",
              "          docLink.innerHTML = docLinkHtml;\n",
              "          element.appendChild(docLink);\n",
              "        }\n",
              "      </script>\n",
              "    </div>\n",
              "  </div>\n",
              "  "
            ]
          },
          "metadata": {},
          "execution_count": 37
        }
      ]
    },
    {
      "cell_type": "code",
      "source": [
        "# Menampilkan fitur beserta nilainya\n",
        "feature = tf_idf.get_feature_names_out()\n",
        "data_chi2['fitur'] = feature\n",
        "data_chi2"
      ],
      "metadata": {
        "colab": {
          "base_uri": "https://localhost:8080/",
          "height": 424
        },
        "id": "SIfL6qeZocKN",
        "outputId": "1bfad5b8-9143-4159-b082-cc96df50079b"
      },
      "execution_count": 38,
      "outputs": [
        {
          "output_type": "execute_result",
          "data": {
            "text/plain": [
              "        nilai      fitur\n",
              "0    0.003708       abis\n",
              "1    0.247537      abiss\n",
              "2    0.363339    acclaim\n",
              "3    0.403277  actingnya\n",
              "4    0.033334     action\n",
              "..        ...        ...\n",
              "873  0.002344         yg\n",
              "874  0.286211        you\n",
              "875  0.414480    youtube\n",
              "876  0.354978        yuk\n",
              "877  1.810596     ziarah\n",
              "\n",
              "[878 rows x 2 columns]"
            ],
            "text/html": [
              "\n",
              "  <div id=\"df-9924ca35-73f8-453b-b874-b2e12001b8f4\">\n",
              "    <div class=\"colab-df-container\">\n",
              "      <div>\n",
              "<style scoped>\n",
              "    .dataframe tbody tr th:only-of-type {\n",
              "        vertical-align: middle;\n",
              "    }\n",
              "\n",
              "    .dataframe tbody tr th {\n",
              "        vertical-align: top;\n",
              "    }\n",
              "\n",
              "    .dataframe thead th {\n",
              "        text-align: right;\n",
              "    }\n",
              "</style>\n",
              "<table border=\"1\" class=\"dataframe\">\n",
              "  <thead>\n",
              "    <tr style=\"text-align: right;\">\n",
              "      <th></th>\n",
              "      <th>nilai</th>\n",
              "      <th>fitur</th>\n",
              "    </tr>\n",
              "  </thead>\n",
              "  <tbody>\n",
              "    <tr>\n",
              "      <th>0</th>\n",
              "      <td>0.003708</td>\n",
              "      <td>abis</td>\n",
              "    </tr>\n",
              "    <tr>\n",
              "      <th>1</th>\n",
              "      <td>0.247537</td>\n",
              "      <td>abiss</td>\n",
              "    </tr>\n",
              "    <tr>\n",
              "      <th>2</th>\n",
              "      <td>0.363339</td>\n",
              "      <td>acclaim</td>\n",
              "    </tr>\n",
              "    <tr>\n",
              "      <th>3</th>\n",
              "      <td>0.403277</td>\n",
              "      <td>actingnya</td>\n",
              "    </tr>\n",
              "    <tr>\n",
              "      <th>4</th>\n",
              "      <td>0.033334</td>\n",
              "      <td>action</td>\n",
              "    </tr>\n",
              "    <tr>\n",
              "      <th>...</th>\n",
              "      <td>...</td>\n",
              "      <td>...</td>\n",
              "    </tr>\n",
              "    <tr>\n",
              "      <th>873</th>\n",
              "      <td>0.002344</td>\n",
              "      <td>yg</td>\n",
              "    </tr>\n",
              "    <tr>\n",
              "      <th>874</th>\n",
              "      <td>0.286211</td>\n",
              "      <td>you</td>\n",
              "    </tr>\n",
              "    <tr>\n",
              "      <th>875</th>\n",
              "      <td>0.414480</td>\n",
              "      <td>youtube</td>\n",
              "    </tr>\n",
              "    <tr>\n",
              "      <th>876</th>\n",
              "      <td>0.354978</td>\n",
              "      <td>yuk</td>\n",
              "    </tr>\n",
              "    <tr>\n",
              "      <th>877</th>\n",
              "      <td>1.810596</td>\n",
              "      <td>ziarah</td>\n",
              "    </tr>\n",
              "  </tbody>\n",
              "</table>\n",
              "<p>878 rows × 2 columns</p>\n",
              "</div>\n",
              "      <button class=\"colab-df-convert\" onclick=\"convertToInteractive('df-9924ca35-73f8-453b-b874-b2e12001b8f4')\"\n",
              "              title=\"Convert this dataframe to an interactive table.\"\n",
              "              style=\"display:none;\">\n",
              "        \n",
              "  <svg xmlns=\"http://www.w3.org/2000/svg\" height=\"24px\"viewBox=\"0 0 24 24\"\n",
              "       width=\"24px\">\n",
              "    <path d=\"M0 0h24v24H0V0z\" fill=\"none\"/>\n",
              "    <path d=\"M18.56 5.44l.94 2.06.94-2.06 2.06-.94-2.06-.94-.94-2.06-.94 2.06-2.06.94zm-11 1L8.5 8.5l.94-2.06 2.06-.94-2.06-.94L8.5 2.5l-.94 2.06-2.06.94zm10 10l.94 2.06.94-2.06 2.06-.94-2.06-.94-.94-2.06-.94 2.06-2.06.94z\"/><path d=\"M17.41 7.96l-1.37-1.37c-.4-.4-.92-.59-1.43-.59-.52 0-1.04.2-1.43.59L10.3 9.45l-7.72 7.72c-.78.78-.78 2.05 0 2.83L4 21.41c.39.39.9.59 1.41.59.51 0 1.02-.2 1.41-.59l7.78-7.78 2.81-2.81c.8-.78.8-2.07 0-2.86zM5.41 20L4 18.59l7.72-7.72 1.47 1.35L5.41 20z\"/>\n",
              "  </svg>\n",
              "      </button>\n",
              "      \n",
              "  <style>\n",
              "    .colab-df-container {\n",
              "      display:flex;\n",
              "      flex-wrap:wrap;\n",
              "      gap: 12px;\n",
              "    }\n",
              "\n",
              "    .colab-df-convert {\n",
              "      background-color: #E8F0FE;\n",
              "      border: none;\n",
              "      border-radius: 50%;\n",
              "      cursor: pointer;\n",
              "      display: none;\n",
              "      fill: #1967D2;\n",
              "      height: 32px;\n",
              "      padding: 0 0 0 0;\n",
              "      width: 32px;\n",
              "    }\n",
              "\n",
              "    .colab-df-convert:hover {\n",
              "      background-color: #E2EBFA;\n",
              "      box-shadow: 0px 1px 2px rgba(60, 64, 67, 0.3), 0px 1px 3px 1px rgba(60, 64, 67, 0.15);\n",
              "      fill: #174EA6;\n",
              "    }\n",
              "\n",
              "    [theme=dark] .colab-df-convert {\n",
              "      background-color: #3B4455;\n",
              "      fill: #D2E3FC;\n",
              "    }\n",
              "\n",
              "    [theme=dark] .colab-df-convert:hover {\n",
              "      background-color: #434B5C;\n",
              "      box-shadow: 0px 1px 3px 1px rgba(0, 0, 0, 0.15);\n",
              "      filter: drop-shadow(0px 1px 2px rgba(0, 0, 0, 0.3));\n",
              "      fill: #FFFFFF;\n",
              "    }\n",
              "  </style>\n",
              "\n",
              "      <script>\n",
              "        const buttonEl =\n",
              "          document.querySelector('#df-9924ca35-73f8-453b-b874-b2e12001b8f4 button.colab-df-convert');\n",
              "        buttonEl.style.display =\n",
              "          google.colab.kernel.accessAllowed ? 'block' : 'none';\n",
              "\n",
              "        async function convertToInteractive(key) {\n",
              "          const element = document.querySelector('#df-9924ca35-73f8-453b-b874-b2e12001b8f4');\n",
              "          const dataTable =\n",
              "            await google.colab.kernel.invokeFunction('convertToInteractive',\n",
              "                                                     [key], {});\n",
              "          if (!dataTable) return;\n",
              "\n",
              "          const docLinkHtml = 'Like what you see? Visit the ' +\n",
              "            '<a target=\"_blank\" href=https://colab.research.google.com/notebooks/data_table.ipynb>data table notebook</a>'\n",
              "            + ' to learn more about interactive tables.';\n",
              "          element.innerHTML = '';\n",
              "          dataTable['output_type'] = 'display_data';\n",
              "          await google.colab.output.renderOutput(dataTable, element);\n",
              "          const docLink = document.createElement('div');\n",
              "          docLink.innerHTML = docLinkHtml;\n",
              "          element.appendChild(docLink);\n",
              "        }\n",
              "      </script>\n",
              "    </div>\n",
              "  </div>\n",
              "  "
            ]
          },
          "metadata": {},
          "execution_count": 38
        }
      ]
    },
    {
      "cell_type": "code",
      "source": [
        "# Mengurutkan fitur terbaik\n",
        "data_chi2.sort_values(by='nilai', ascending=False)"
      ],
      "metadata": {
        "colab": {
          "base_uri": "https://localhost:8080/",
          "height": 424
        },
        "id": "fi2fKtc-oeqT",
        "outputId": "05b03349-8371-4a2c-9bbb-da2fd4cac44d"
      },
      "execution_count": 39,
      "outputs": [
        {
          "output_type": "execute_result",
          "data": {
            "text/plain": [
              "        nilai    fitur\n",
              "396  4.968480   kecewa\n",
              "359  4.953546    jelek\n",
              "407  4.725379    keren\n",
              "307  2.897733   hambar\n",
              "267  2.564924       ga\n",
              "..        ...      ...\n",
              "117  0.000190    bikin\n",
              "710  0.000149  selesai\n",
              "462  0.000089       lo\n",
              "273  0.000012   gambar\n",
              "270  0.000012    gagal\n",
              "\n",
              "[878 rows x 2 columns]"
            ],
            "text/html": [
              "\n",
              "  <div id=\"df-1c9a2fd3-e019-4aea-a765-8d2111c27fb8\">\n",
              "    <div class=\"colab-df-container\">\n",
              "      <div>\n",
              "<style scoped>\n",
              "    .dataframe tbody tr th:only-of-type {\n",
              "        vertical-align: middle;\n",
              "    }\n",
              "\n",
              "    .dataframe tbody tr th {\n",
              "        vertical-align: top;\n",
              "    }\n",
              "\n",
              "    .dataframe thead th {\n",
              "        text-align: right;\n",
              "    }\n",
              "</style>\n",
              "<table border=\"1\" class=\"dataframe\">\n",
              "  <thead>\n",
              "    <tr style=\"text-align: right;\">\n",
              "      <th></th>\n",
              "      <th>nilai</th>\n",
              "      <th>fitur</th>\n",
              "    </tr>\n",
              "  </thead>\n",
              "  <tbody>\n",
              "    <tr>\n",
              "      <th>396</th>\n",
              "      <td>4.968480</td>\n",
              "      <td>kecewa</td>\n",
              "    </tr>\n",
              "    <tr>\n",
              "      <th>359</th>\n",
              "      <td>4.953546</td>\n",
              "      <td>jelek</td>\n",
              "    </tr>\n",
              "    <tr>\n",
              "      <th>407</th>\n",
              "      <td>4.725379</td>\n",
              "      <td>keren</td>\n",
              "    </tr>\n",
              "    <tr>\n",
              "      <th>307</th>\n",
              "      <td>2.897733</td>\n",
              "      <td>hambar</td>\n",
              "    </tr>\n",
              "    <tr>\n",
              "      <th>267</th>\n",
              "      <td>2.564924</td>\n",
              "      <td>ga</td>\n",
              "    </tr>\n",
              "    <tr>\n",
              "      <th>...</th>\n",
              "      <td>...</td>\n",
              "      <td>...</td>\n",
              "    </tr>\n",
              "    <tr>\n",
              "      <th>117</th>\n",
              "      <td>0.000190</td>\n",
              "      <td>bikin</td>\n",
              "    </tr>\n",
              "    <tr>\n",
              "      <th>710</th>\n",
              "      <td>0.000149</td>\n",
              "      <td>selesai</td>\n",
              "    </tr>\n",
              "    <tr>\n",
              "      <th>462</th>\n",
              "      <td>0.000089</td>\n",
              "      <td>lo</td>\n",
              "    </tr>\n",
              "    <tr>\n",
              "      <th>273</th>\n",
              "      <td>0.000012</td>\n",
              "      <td>gambar</td>\n",
              "    </tr>\n",
              "    <tr>\n",
              "      <th>270</th>\n",
              "      <td>0.000012</td>\n",
              "      <td>gagal</td>\n",
              "    </tr>\n",
              "  </tbody>\n",
              "</table>\n",
              "<p>878 rows × 2 columns</p>\n",
              "</div>\n",
              "      <button class=\"colab-df-convert\" onclick=\"convertToInteractive('df-1c9a2fd3-e019-4aea-a765-8d2111c27fb8')\"\n",
              "              title=\"Convert this dataframe to an interactive table.\"\n",
              "              style=\"display:none;\">\n",
              "        \n",
              "  <svg xmlns=\"http://www.w3.org/2000/svg\" height=\"24px\"viewBox=\"0 0 24 24\"\n",
              "       width=\"24px\">\n",
              "    <path d=\"M0 0h24v24H0V0z\" fill=\"none\"/>\n",
              "    <path d=\"M18.56 5.44l.94 2.06.94-2.06 2.06-.94-2.06-.94-.94-2.06-.94 2.06-2.06.94zm-11 1L8.5 8.5l.94-2.06 2.06-.94-2.06-.94L8.5 2.5l-.94 2.06-2.06.94zm10 10l.94 2.06.94-2.06 2.06-.94-2.06-.94-.94-2.06-.94 2.06-2.06.94z\"/><path d=\"M17.41 7.96l-1.37-1.37c-.4-.4-.92-.59-1.43-.59-.52 0-1.04.2-1.43.59L10.3 9.45l-7.72 7.72c-.78.78-.78 2.05 0 2.83L4 21.41c.39.39.9.59 1.41.59.51 0 1.02-.2 1.41-.59l7.78-7.78 2.81-2.81c.8-.78.8-2.07 0-2.86zM5.41 20L4 18.59l7.72-7.72 1.47 1.35L5.41 20z\"/>\n",
              "  </svg>\n",
              "      </button>\n",
              "      \n",
              "  <style>\n",
              "    .colab-df-container {\n",
              "      display:flex;\n",
              "      flex-wrap:wrap;\n",
              "      gap: 12px;\n",
              "    }\n",
              "\n",
              "    .colab-df-convert {\n",
              "      background-color: #E8F0FE;\n",
              "      border: none;\n",
              "      border-radius: 50%;\n",
              "      cursor: pointer;\n",
              "      display: none;\n",
              "      fill: #1967D2;\n",
              "      height: 32px;\n",
              "      padding: 0 0 0 0;\n",
              "      width: 32px;\n",
              "    }\n",
              "\n",
              "    .colab-df-convert:hover {\n",
              "      background-color: #E2EBFA;\n",
              "      box-shadow: 0px 1px 2px rgba(60, 64, 67, 0.3), 0px 1px 3px 1px rgba(60, 64, 67, 0.15);\n",
              "      fill: #174EA6;\n",
              "    }\n",
              "\n",
              "    [theme=dark] .colab-df-convert {\n",
              "      background-color: #3B4455;\n",
              "      fill: #D2E3FC;\n",
              "    }\n",
              "\n",
              "    [theme=dark] .colab-df-convert:hover {\n",
              "      background-color: #434B5C;\n",
              "      box-shadow: 0px 1px 3px 1px rgba(0, 0, 0, 0.15);\n",
              "      filter: drop-shadow(0px 1px 2px rgba(0, 0, 0, 0.3));\n",
              "      fill: #FFFFFF;\n",
              "    }\n",
              "  </style>\n",
              "\n",
              "      <script>\n",
              "        const buttonEl =\n",
              "          document.querySelector('#df-1c9a2fd3-e019-4aea-a765-8d2111c27fb8 button.colab-df-convert');\n",
              "        buttonEl.style.display =\n",
              "          google.colab.kernel.accessAllowed ? 'block' : 'none';\n",
              "\n",
              "        async function convertToInteractive(key) {\n",
              "          const element = document.querySelector('#df-1c9a2fd3-e019-4aea-a765-8d2111c27fb8');\n",
              "          const dataTable =\n",
              "            await google.colab.kernel.invokeFunction('convertToInteractive',\n",
              "                                                     [key], {});\n",
              "          if (!dataTable) return;\n",
              "\n",
              "          const docLinkHtml = 'Like what you see? Visit the ' +\n",
              "            '<a target=\"_blank\" href=https://colab.research.google.com/notebooks/data_table.ipynb>data table notebook</a>'\n",
              "            + ' to learn more about interactive tables.';\n",
              "          element.innerHTML = '';\n",
              "          dataTable['output_type'] = 'display_data';\n",
              "          await google.colab.output.renderOutput(dataTable, element);\n",
              "          const docLink = document.createElement('div');\n",
              "          docLink.innerHTML = docLinkHtml;\n",
              "          element.appendChild(docLink);\n",
              "        }\n",
              "      </script>\n",
              "    </div>\n",
              "  </div>\n",
              "  "
            ]
          },
          "metadata": {},
          "execution_count": 39
        }
      ]
    },
    {
      "cell_type": "code",
      "source": [
        "# Menampilkan mask pada feature yang diseleksi\n",
        "# False berarti fitur tidak terpilih dan True berarti fitur terpilih\n",
        "mask = chi2_features.get_support()\n",
        "mask"
      ],
      "metadata": {
        "colab": {
          "base_uri": "https://localhost:8080/"
        },
        "id": "M5ZXjCd0ohHa",
        "outputId": "a167dcea-383f-4988-9bd7-76703c069ca1"
      },
      "execution_count": 40,
      "outputs": [
        {
          "output_type": "execute_result",
          "data": {
            "text/plain": [
              "array([False, False, False, False, False, False, False, False, False,\n",
              "       False, False, False, False, False, False,  True,  True, False,\n",
              "       False, False, False, False,  True, False,  True, False,  True,\n",
              "       False, False,  True, False, False, False, False, False, False,\n",
              "       False, False,  True,  True,  True, False,  True,  True, False,\n",
              "       False, False,  True, False, False,  True, False,  True, False,\n",
              "       False, False, False, False,  True, False, False,  True, False,\n",
              "       False,  True, False, False, False, False, False,  True, False,\n",
              "       False, False, False, False,  True,  True, False, False, False,\n",
              "       False, False, False, False, False, False, False, False, False,\n",
              "       False, False, False, False, False,  True, False, False, False,\n",
              "       False, False, False, False, False,  True, False, False, False,\n",
              "       False, False, False, False, False, False, False, False, False,\n",
              "       False,  True, False, False, False, False, False, False, False,\n",
              "       False, False, False, False, False, False, False, False, False,\n",
              "       False, False, False, False, False, False,  True, False, False,\n",
              "       False, False, False, False, False, False, False, False, False,\n",
              "       False, False, False,  True, False, False, False, False, False,\n",
              "       False, False, False,  True, False, False, False, False, False,\n",
              "        True,  True,  True, False, False, False, False, False, False,\n",
              "       False, False, False, False, False, False, False, False, False,\n",
              "        True,  True,  True, False, False, False,  True, False, False,\n",
              "       False, False, False, False, False, False, False, False, False,\n",
              "       False, False, False, False, False, False, False, False, False,\n",
              "       False, False, False, False, False, False, False, False, False,\n",
              "       False, False, False, False, False, False, False, False, False,\n",
              "       False, False, False, False, False, False, False, False, False,\n",
              "       False, False,  True, False, False, False, False, False, False,\n",
              "       False, False, False, False, False, False, False, False,  True,\n",
              "       False,  True, False, False, False, False,  True, False, False,\n",
              "       False, False, False, False, False, False, False, False, False,\n",
              "       False, False, False, False, False, False, False,  True, False,\n",
              "       False, False, False,  True, False, False, False, False, False,\n",
              "       False, False, False,  True, False, False,  True, False, False,\n",
              "       False,  True,  True, False, False, False, False,  True, False,\n",
              "       False, False, False, False, False, False, False, False, False,\n",
              "       False, False, False, False,  True,  True, False, False, False,\n",
              "       False, False, False,  True, False, False, False, False,  True,\n",
              "       False, False, False, False, False, False,  True, False, False,\n",
              "       False, False, False, False, False, False, False, False,  True,\n",
              "        True, False,  True, False, False,  True, False, False, False,\n",
              "       False, False,  True, False, False, False,  True, False, False,\n",
              "       False, False, False, False, False, False, False, False,  True,\n",
              "       False, False, False, False, False, False, False, False, False,\n",
              "        True,  True, False, False, False, False, False, False, False,\n",
              "       False, False,  True, False, False, False, False, False, False,\n",
              "       False,  True, False, False, False, False, False, False, False,\n",
              "       False, False, False,  True, False, False, False, False, False,\n",
              "       False, False, False, False, False, False, False, False, False,\n",
              "       False,  True, False,  True, False, False,  True,  True, False,\n",
              "       False, False,  True, False, False, False, False, False, False,\n",
              "       False, False, False, False, False, False, False, False, False,\n",
              "       False, False, False, False,  True, False, False, False, False,\n",
              "        True, False, False, False, False, False, False, False, False,\n",
              "       False, False, False, False, False, False, False,  True, False,\n",
              "       False, False, False, False, False, False, False, False, False,\n",
              "       False, False, False, False,  True, False, False, False, False,\n",
              "       False, False, False, False, False, False, False, False, False,\n",
              "       False,  True, False, False, False, False, False, False, False,\n",
              "        True,  True,  True, False,  True, False, False, False, False,\n",
              "       False, False, False, False, False, False, False, False, False,\n",
              "       False,  True, False, False, False, False,  True, False, False,\n",
              "       False, False, False, False, False, False,  True, False, False,\n",
              "       False, False, False, False, False,  True,  True,  True, False,\n",
              "       False,  True, False, False, False, False, False, False, False,\n",
              "        True, False, False, False, False, False, False, False, False,\n",
              "       False, False, False, False, False, False, False, False, False,\n",
              "       False, False, False, False, False, False, False, False, False,\n",
              "       False, False, False, False, False,  True, False, False, False,\n",
              "       False, False, False, False, False, False, False, False, False,\n",
              "       False, False, False, False, False, False, False, False, False,\n",
              "       False, False, False, False, False, False, False, False, False,\n",
              "       False,  True,  True, False, False, False, False, False, False,\n",
              "       False, False, False, False, False, False, False, False, False,\n",
              "       False, False, False, False, False, False, False, False, False,\n",
              "       False, False, False,  True, False, False,  True, False, False,\n",
              "       False,  True, False, False, False, False, False, False, False,\n",
              "       False, False, False, False, False, False, False, False, False,\n",
              "       False, False, False, False, False, False, False, False, False,\n",
              "       False, False, False, False, False, False, False, False, False,\n",
              "       False,  True,  True, False, False, False, False, False,  True,\n",
              "       False, False, False, False, False, False, False, False, False,\n",
              "       False, False, False, False, False, False, False, False, False,\n",
              "       False, False, False, False, False, False, False, False, False,\n",
              "       False, False, False, False, False,  True,  True, False, False,\n",
              "       False, False, False, False, False, False, False, False, False,\n",
              "       False, False,  True, False, False, False, False, False, False,\n",
              "       False, False, False, False, False, False, False, False, False,\n",
              "       False, False, False, False, False, False, False, False, False,\n",
              "       False, False, False, False, False, False, False, False, False,\n",
              "       False, False, False, False, False, False, False, False, False,\n",
              "       False, False, False, False, False, False,  True, False, False,\n",
              "       False, False, False, False, False, False, False, False,  True,\n",
              "       False, False, False, False, False, False, False, False, False,\n",
              "       False, False, False, False, False, False, False, False, False,\n",
              "       False, False,  True, False, False, False, False, False, False,\n",
              "       False, False, False, False, False, False,  True, False, False,\n",
              "       False, False, False, False,  True])"
            ]
          },
          "metadata": {},
          "execution_count": 40
        }
      ]
    },
    {
      "cell_type": "code",
      "source": [
        "# Menampilkan fitur-fitur terpilih berdasarkan mask atau nilai tertinggi yang sudah dikalkulasi pada Chi-Square\n",
        "new_feature = []\n",
        "\n",
        "for bool, f in zip(mask, feature):\n",
        "  if bool:\n",
        "    new_feature.append(f)\n",
        "  selected_feature = new_feature\n",
        "\n",
        "selected_feature"
      ],
      "metadata": {
        "colab": {
          "base_uri": "https://localhost:8080/"
        },
        "id": "eP35dGfmoj1y",
        "outputId": "8d379d4f-e503-4f36-fc30-2aaba09523c5"
      },
      "execution_count": 41,
      "outputs": [
        {
          "output_type": "execute_result",
          "data": {
            "text/plain": [
              "['aja',\n",
              " 'ajaa',\n",
              " 'aktor',\n",
              " 'ale',\n",
              " 'alien',\n",
              " 'ama',\n",
              " 'ane',\n",
              " 'aneh',\n",
              " 'angkat',\n",
              " 'anjlok',\n",
              " 'anya',\n",
              " 'arthur',\n",
              " 'asik',\n",
              " 'asli',\n",
              " 'bagus',\n",
              " 'bahagia',\n",
              " 'baik',\n",
              " 'bang',\n",
              " 'bangga',\n",
              " 'banggafilmindonesia',\n",
              " 'belah',\n",
              " 'berekspektasi',\n",
              " 'bilang',\n",
              " 'bs',\n",
              " 'busuk',\n",
              " 'cenayangfilm',\n",
              " 'cinta',\n",
              " 'coba',\n",
              " 'cocok',\n",
              " 'danurmovie',\n",
              " 'dapat',\n",
              " 'dapet',\n",
              " 'deh',\n",
              " 'erti',\n",
              " 'filmkartini',\n",
              " 'filmziarah',\n",
              " 'ga',\n",
              " 'getout',\n",
              " 'gitu',\n",
              " 'gue',\n",
              " 'gw',\n",
              " 'hambar',\n",
              " 'hambarr',\n",
              " 'hanungbramantyo',\n",
              " 'horor',\n",
              " 'horror',\n",
              " 'indonesia',\n",
              " 'inspirasi',\n",
              " 'isi',\n",
              " 'jelek',\n",
              " 'jelekk',\n",
              " 'jenuh',\n",
              " 'jijk',\n",
              " 'judul',\n",
              " 'kagum',\n",
              " 'kartini',\n",
              " 'kecewa',\n",
              " 'kecewaa',\n",
              " 'keren',\n",
              " 'king',\n",
              " 'komedi',\n",
              " 'laku',\n",
              " 'lanjut',\n",
              " 'laris',\n",
              " 'layak',\n",
              " 'legacypictures',\n",
              " 'lucu',\n",
              " 'main',\n",
              " 'mbah',\n",
              " 'mikir',\n",
              " 'movie',\n",
              " 'mummy',\n",
              " 'murah',\n",
              " 'mutu',\n",
              " 'nang',\n",
              " 'ngehek',\n",
              " 'nggak',\n",
              " 'nikmat',\n",
              " 'nontonnya',\n",
              " 'norak',\n",
              " 'novel',\n",
              " 'nunggu',\n",
              " 'nyesel',\n",
              " 'perang',\n",
              " 'radityadika',\n",
              " 'ragu',\n",
              " 'rusak',\n",
              " 'sahabat',\n",
              " 'salut',\n",
              " 'seru',\n",
              " 'sesal',\n",
              " 'si',\n",
              " 'sukses',\n",
              " 'sumpah',\n",
              " 'tarik',\n",
              " 'tonton',\n",
              " 'tu',\n",
              " 'wajib',\n",
              " 'yah',\n",
              " 'ziarah']"
            ]
          },
          "metadata": {},
          "execution_count": 41
        }
      ]
    },
    {
      "cell_type": "code",
      "source": [
        "# Cara melihat vocab yang dihasilkan oleh TF_IDF\n",
        "# tf_idf.vocabulary_ \n",
        "\n",
        "kbest_feature = {} # Buat dictionary kosong\n",
        "\n",
        "for (k,v) in tf_idf.vocabulary_.items():    # Iterasi untuk mengulangi vocab yang dihasilkan TF_IDF\n",
        "  if k in selected_feature:                 # Cek apakah fitur termasuk k fitur yang diseleksi\n",
        "    kbest_feature[k] = v                    # Jika iya, simpan fitur tersebut pada dictionary kosong diatas"
      ],
      "metadata": {
        "id": "xdWlWxHXonAi"
      },
      "execution_count": 42,
      "outputs": []
    },
    {
      "cell_type": "code",
      "source": [
        "# Menampilkan fitur-fitur yang sudah diseleksi \n",
        "# Beserta nilai vektornya pada keseluruhan data untuk dijalankan pada proses machine learning\n",
        "\n",
        "# Hanya k fitur yang terpilih sesuai parameter k yang ditentukan sebelumnya\n",
        "\n",
        "data_selected_feature = pd.DataFrame(X_kbest_features, columns=selected_feature)\n",
        "data_selected_feature"
      ],
      "metadata": {
        "colab": {
          "base_uri": "https://localhost:8080/",
          "height": 468
        },
        "id": "cMSqebRKoqHx",
        "outputId": "ce2af3b7-6626-4fbb-9281-726e5f70d3a5"
      },
      "execution_count": 43,
      "outputs": [
        {
          "output_type": "execute_result",
          "data": {
            "text/plain": [
              "     aja  ajaa  aktor  ale  alien       ama       ane  aneh  angkat  anjlok  \\\n",
              "0    0.0   0.0    0.0  0.0    0.0  0.000000  0.000000   0.0     0.0     0.0   \n",
              "1    0.0   0.0    0.0  0.0    0.0  0.000000  0.000000   0.0     0.0     0.0   \n",
              "2    0.0   0.0    0.0  0.0    0.0  0.000000  0.000000   0.0     0.0     0.0   \n",
              "3    0.0   0.0    0.0  0.0    0.0  0.000000  0.351585   0.0     0.0     0.0   \n",
              "4    0.0   0.0    0.0  0.0    0.0  0.208214  0.000000   0.0     0.0     0.0   \n",
              "..   ...   ...    ...  ...    ...       ...       ...   ...     ...     ...   \n",
              "195  0.0   0.0    0.0  0.0    0.0  0.000000  0.000000   0.0     0.0     0.0   \n",
              "196  0.0   0.0    0.0  0.0    0.0  0.000000  0.000000   0.0     0.0     0.0   \n",
              "197  0.0   0.0    0.0  0.0    0.0  0.000000  0.000000   0.0     0.0     0.0   \n",
              "198  0.0   0.0    0.0  0.0    0.0  0.000000  0.000000   0.0     0.0     0.0   \n",
              "199  0.0   0.0    0.0  0.0    0.0  0.000000  0.000000   0.0     0.0     0.0   \n",
              "\n",
              "     ...  sesal        si  sukses  sumpah     tarik    tonton        tu  \\\n",
              "0    ...    0.0  0.374131     0.0     0.0  0.000000  0.000000  0.000000   \n",
              "1    ...    0.0  0.000000     0.0     0.0  0.000000  0.000000  0.000000   \n",
              "2    ...    0.0  0.000000     0.0     0.0  0.000000  0.000000  0.000000   \n",
              "3    ...    0.0  0.000000     0.0     0.0  0.000000  0.000000  0.372156   \n",
              "4    ...    0.0  0.000000     0.0     0.0  0.000000  0.000000  0.000000   \n",
              "..   ...    ...       ...     ...     ...       ...       ...       ...   \n",
              "195  ...    0.0  0.000000     0.0     0.0  0.000000  0.000000  0.000000   \n",
              "196  ...    0.0  0.000000     0.0     0.0  0.000000  0.182745  0.000000   \n",
              "197  ...    0.0  0.000000     0.0     0.0  0.000000  0.000000  0.000000   \n",
              "198  ...    0.0  0.000000     0.0     0.0  0.254665  0.000000  0.000000   \n",
              "199  ...    0.0  0.000000     0.0     0.0  0.000000  0.134896  0.000000   \n",
              "\n",
              "     wajib  yah  ziarah  \n",
              "0      0.0  0.0     0.0  \n",
              "1      0.0  0.0     0.0  \n",
              "2      0.0  0.0     0.0  \n",
              "3      0.0  0.0     0.0  \n",
              "4      0.0  0.0     0.0  \n",
              "..     ...  ...     ...  \n",
              "195    0.0  0.0     0.0  \n",
              "196    0.0  0.0     0.0  \n",
              "197    0.0  0.0     0.0  \n",
              "198    0.0  0.0     0.0  \n",
              "199    0.0  0.0     0.0  \n",
              "\n",
              "[200 rows x 100 columns]"
            ],
            "text/html": [
              "\n",
              "  <div id=\"df-38b4b829-0a8b-43fb-9377-b6800768df4d\">\n",
              "    <div class=\"colab-df-container\">\n",
              "      <div>\n",
              "<style scoped>\n",
              "    .dataframe tbody tr th:only-of-type {\n",
              "        vertical-align: middle;\n",
              "    }\n",
              "\n",
              "    .dataframe tbody tr th {\n",
              "        vertical-align: top;\n",
              "    }\n",
              "\n",
              "    .dataframe thead th {\n",
              "        text-align: right;\n",
              "    }\n",
              "</style>\n",
              "<table border=\"1\" class=\"dataframe\">\n",
              "  <thead>\n",
              "    <tr style=\"text-align: right;\">\n",
              "      <th></th>\n",
              "      <th>aja</th>\n",
              "      <th>ajaa</th>\n",
              "      <th>aktor</th>\n",
              "      <th>ale</th>\n",
              "      <th>alien</th>\n",
              "      <th>ama</th>\n",
              "      <th>ane</th>\n",
              "      <th>aneh</th>\n",
              "      <th>angkat</th>\n",
              "      <th>anjlok</th>\n",
              "      <th>...</th>\n",
              "      <th>sesal</th>\n",
              "      <th>si</th>\n",
              "      <th>sukses</th>\n",
              "      <th>sumpah</th>\n",
              "      <th>tarik</th>\n",
              "      <th>tonton</th>\n",
              "      <th>tu</th>\n",
              "      <th>wajib</th>\n",
              "      <th>yah</th>\n",
              "      <th>ziarah</th>\n",
              "    </tr>\n",
              "  </thead>\n",
              "  <tbody>\n",
              "    <tr>\n",
              "      <th>0</th>\n",
              "      <td>0.0</td>\n",
              "      <td>0.0</td>\n",
              "      <td>0.0</td>\n",
              "      <td>0.0</td>\n",
              "      <td>0.0</td>\n",
              "      <td>0.000000</td>\n",
              "      <td>0.000000</td>\n",
              "      <td>0.0</td>\n",
              "      <td>0.0</td>\n",
              "      <td>0.0</td>\n",
              "      <td>...</td>\n",
              "      <td>0.0</td>\n",
              "      <td>0.374131</td>\n",
              "      <td>0.0</td>\n",
              "      <td>0.0</td>\n",
              "      <td>0.000000</td>\n",
              "      <td>0.000000</td>\n",
              "      <td>0.000000</td>\n",
              "      <td>0.0</td>\n",
              "      <td>0.0</td>\n",
              "      <td>0.0</td>\n",
              "    </tr>\n",
              "    <tr>\n",
              "      <th>1</th>\n",
              "      <td>0.0</td>\n",
              "      <td>0.0</td>\n",
              "      <td>0.0</td>\n",
              "      <td>0.0</td>\n",
              "      <td>0.0</td>\n",
              "      <td>0.000000</td>\n",
              "      <td>0.000000</td>\n",
              "      <td>0.0</td>\n",
              "      <td>0.0</td>\n",
              "      <td>0.0</td>\n",
              "      <td>...</td>\n",
              "      <td>0.0</td>\n",
              "      <td>0.000000</td>\n",
              "      <td>0.0</td>\n",
              "      <td>0.0</td>\n",
              "      <td>0.000000</td>\n",
              "      <td>0.000000</td>\n",
              "      <td>0.000000</td>\n",
              "      <td>0.0</td>\n",
              "      <td>0.0</td>\n",
              "      <td>0.0</td>\n",
              "    </tr>\n",
              "    <tr>\n",
              "      <th>2</th>\n",
              "      <td>0.0</td>\n",
              "      <td>0.0</td>\n",
              "      <td>0.0</td>\n",
              "      <td>0.0</td>\n",
              "      <td>0.0</td>\n",
              "      <td>0.000000</td>\n",
              "      <td>0.000000</td>\n",
              "      <td>0.0</td>\n",
              "      <td>0.0</td>\n",
              "      <td>0.0</td>\n",
              "      <td>...</td>\n",
              "      <td>0.0</td>\n",
              "      <td>0.000000</td>\n",
              "      <td>0.0</td>\n",
              "      <td>0.0</td>\n",
              "      <td>0.000000</td>\n",
              "      <td>0.000000</td>\n",
              "      <td>0.000000</td>\n",
              "      <td>0.0</td>\n",
              "      <td>0.0</td>\n",
              "      <td>0.0</td>\n",
              "    </tr>\n",
              "    <tr>\n",
              "      <th>3</th>\n",
              "      <td>0.0</td>\n",
              "      <td>0.0</td>\n",
              "      <td>0.0</td>\n",
              "      <td>0.0</td>\n",
              "      <td>0.0</td>\n",
              "      <td>0.000000</td>\n",
              "      <td>0.351585</td>\n",
              "      <td>0.0</td>\n",
              "      <td>0.0</td>\n",
              "      <td>0.0</td>\n",
              "      <td>...</td>\n",
              "      <td>0.0</td>\n",
              "      <td>0.000000</td>\n",
              "      <td>0.0</td>\n",
              "      <td>0.0</td>\n",
              "      <td>0.000000</td>\n",
              "      <td>0.000000</td>\n",
              "      <td>0.372156</td>\n",
              "      <td>0.0</td>\n",
              "      <td>0.0</td>\n",
              "      <td>0.0</td>\n",
              "    </tr>\n",
              "    <tr>\n",
              "      <th>4</th>\n",
              "      <td>0.0</td>\n",
              "      <td>0.0</td>\n",
              "      <td>0.0</td>\n",
              "      <td>0.0</td>\n",
              "      <td>0.0</td>\n",
              "      <td>0.208214</td>\n",
              "      <td>0.000000</td>\n",
              "      <td>0.0</td>\n",
              "      <td>0.0</td>\n",
              "      <td>0.0</td>\n",
              "      <td>...</td>\n",
              "      <td>0.0</td>\n",
              "      <td>0.000000</td>\n",
              "      <td>0.0</td>\n",
              "      <td>0.0</td>\n",
              "      <td>0.000000</td>\n",
              "      <td>0.000000</td>\n",
              "      <td>0.000000</td>\n",
              "      <td>0.0</td>\n",
              "      <td>0.0</td>\n",
              "      <td>0.0</td>\n",
              "    </tr>\n",
              "    <tr>\n",
              "      <th>...</th>\n",
              "      <td>...</td>\n",
              "      <td>...</td>\n",
              "      <td>...</td>\n",
              "      <td>...</td>\n",
              "      <td>...</td>\n",
              "      <td>...</td>\n",
              "      <td>...</td>\n",
              "      <td>...</td>\n",
              "      <td>...</td>\n",
              "      <td>...</td>\n",
              "      <td>...</td>\n",
              "      <td>...</td>\n",
              "      <td>...</td>\n",
              "      <td>...</td>\n",
              "      <td>...</td>\n",
              "      <td>...</td>\n",
              "      <td>...</td>\n",
              "      <td>...</td>\n",
              "      <td>...</td>\n",
              "      <td>...</td>\n",
              "      <td>...</td>\n",
              "    </tr>\n",
              "    <tr>\n",
              "      <th>195</th>\n",
              "      <td>0.0</td>\n",
              "      <td>0.0</td>\n",
              "      <td>0.0</td>\n",
              "      <td>0.0</td>\n",
              "      <td>0.0</td>\n",
              "      <td>0.000000</td>\n",
              "      <td>0.000000</td>\n",
              "      <td>0.0</td>\n",
              "      <td>0.0</td>\n",
              "      <td>0.0</td>\n",
              "      <td>...</td>\n",
              "      <td>0.0</td>\n",
              "      <td>0.000000</td>\n",
              "      <td>0.0</td>\n",
              "      <td>0.0</td>\n",
              "      <td>0.000000</td>\n",
              "      <td>0.000000</td>\n",
              "      <td>0.000000</td>\n",
              "      <td>0.0</td>\n",
              "      <td>0.0</td>\n",
              "      <td>0.0</td>\n",
              "    </tr>\n",
              "    <tr>\n",
              "      <th>196</th>\n",
              "      <td>0.0</td>\n",
              "      <td>0.0</td>\n",
              "      <td>0.0</td>\n",
              "      <td>0.0</td>\n",
              "      <td>0.0</td>\n",
              "      <td>0.000000</td>\n",
              "      <td>0.000000</td>\n",
              "      <td>0.0</td>\n",
              "      <td>0.0</td>\n",
              "      <td>0.0</td>\n",
              "      <td>...</td>\n",
              "      <td>0.0</td>\n",
              "      <td>0.000000</td>\n",
              "      <td>0.0</td>\n",
              "      <td>0.0</td>\n",
              "      <td>0.000000</td>\n",
              "      <td>0.182745</td>\n",
              "      <td>0.000000</td>\n",
              "      <td>0.0</td>\n",
              "      <td>0.0</td>\n",
              "      <td>0.0</td>\n",
              "    </tr>\n",
              "    <tr>\n",
              "      <th>197</th>\n",
              "      <td>0.0</td>\n",
              "      <td>0.0</td>\n",
              "      <td>0.0</td>\n",
              "      <td>0.0</td>\n",
              "      <td>0.0</td>\n",
              "      <td>0.000000</td>\n",
              "      <td>0.000000</td>\n",
              "      <td>0.0</td>\n",
              "      <td>0.0</td>\n",
              "      <td>0.0</td>\n",
              "      <td>...</td>\n",
              "      <td>0.0</td>\n",
              "      <td>0.000000</td>\n",
              "      <td>0.0</td>\n",
              "      <td>0.0</td>\n",
              "      <td>0.000000</td>\n",
              "      <td>0.000000</td>\n",
              "      <td>0.000000</td>\n",
              "      <td>0.0</td>\n",
              "      <td>0.0</td>\n",
              "      <td>0.0</td>\n",
              "    </tr>\n",
              "    <tr>\n",
              "      <th>198</th>\n",
              "      <td>0.0</td>\n",
              "      <td>0.0</td>\n",
              "      <td>0.0</td>\n",
              "      <td>0.0</td>\n",
              "      <td>0.0</td>\n",
              "      <td>0.000000</td>\n",
              "      <td>0.000000</td>\n",
              "      <td>0.0</td>\n",
              "      <td>0.0</td>\n",
              "      <td>0.0</td>\n",
              "      <td>...</td>\n",
              "      <td>0.0</td>\n",
              "      <td>0.000000</td>\n",
              "      <td>0.0</td>\n",
              "      <td>0.0</td>\n",
              "      <td>0.254665</td>\n",
              "      <td>0.000000</td>\n",
              "      <td>0.000000</td>\n",
              "      <td>0.0</td>\n",
              "      <td>0.0</td>\n",
              "      <td>0.0</td>\n",
              "    </tr>\n",
              "    <tr>\n",
              "      <th>199</th>\n",
              "      <td>0.0</td>\n",
              "      <td>0.0</td>\n",
              "      <td>0.0</td>\n",
              "      <td>0.0</td>\n",
              "      <td>0.0</td>\n",
              "      <td>0.000000</td>\n",
              "      <td>0.000000</td>\n",
              "      <td>0.0</td>\n",
              "      <td>0.0</td>\n",
              "      <td>0.0</td>\n",
              "      <td>...</td>\n",
              "      <td>0.0</td>\n",
              "      <td>0.000000</td>\n",
              "      <td>0.0</td>\n",
              "      <td>0.0</td>\n",
              "      <td>0.000000</td>\n",
              "      <td>0.134896</td>\n",
              "      <td>0.000000</td>\n",
              "      <td>0.0</td>\n",
              "      <td>0.0</td>\n",
              "      <td>0.0</td>\n",
              "    </tr>\n",
              "  </tbody>\n",
              "</table>\n",
              "<p>200 rows × 100 columns</p>\n",
              "</div>\n",
              "      <button class=\"colab-df-convert\" onclick=\"convertToInteractive('df-38b4b829-0a8b-43fb-9377-b6800768df4d')\"\n",
              "              title=\"Convert this dataframe to an interactive table.\"\n",
              "              style=\"display:none;\">\n",
              "        \n",
              "  <svg xmlns=\"http://www.w3.org/2000/svg\" height=\"24px\"viewBox=\"0 0 24 24\"\n",
              "       width=\"24px\">\n",
              "    <path d=\"M0 0h24v24H0V0z\" fill=\"none\"/>\n",
              "    <path d=\"M18.56 5.44l.94 2.06.94-2.06 2.06-.94-2.06-.94-.94-2.06-.94 2.06-2.06.94zm-11 1L8.5 8.5l.94-2.06 2.06-.94-2.06-.94L8.5 2.5l-.94 2.06-2.06.94zm10 10l.94 2.06.94-2.06 2.06-.94-2.06-.94-.94-2.06-.94 2.06-2.06.94z\"/><path d=\"M17.41 7.96l-1.37-1.37c-.4-.4-.92-.59-1.43-.59-.52 0-1.04.2-1.43.59L10.3 9.45l-7.72 7.72c-.78.78-.78 2.05 0 2.83L4 21.41c.39.39.9.59 1.41.59.51 0 1.02-.2 1.41-.59l7.78-7.78 2.81-2.81c.8-.78.8-2.07 0-2.86zM5.41 20L4 18.59l7.72-7.72 1.47 1.35L5.41 20z\"/>\n",
              "  </svg>\n",
              "      </button>\n",
              "      \n",
              "  <style>\n",
              "    .colab-df-container {\n",
              "      display:flex;\n",
              "      flex-wrap:wrap;\n",
              "      gap: 12px;\n",
              "    }\n",
              "\n",
              "    .colab-df-convert {\n",
              "      background-color: #E8F0FE;\n",
              "      border: none;\n",
              "      border-radius: 50%;\n",
              "      cursor: pointer;\n",
              "      display: none;\n",
              "      fill: #1967D2;\n",
              "      height: 32px;\n",
              "      padding: 0 0 0 0;\n",
              "      width: 32px;\n",
              "    }\n",
              "\n",
              "    .colab-df-convert:hover {\n",
              "      background-color: #E2EBFA;\n",
              "      box-shadow: 0px 1px 2px rgba(60, 64, 67, 0.3), 0px 1px 3px 1px rgba(60, 64, 67, 0.15);\n",
              "      fill: #174EA6;\n",
              "    }\n",
              "\n",
              "    [theme=dark] .colab-df-convert {\n",
              "      background-color: #3B4455;\n",
              "      fill: #D2E3FC;\n",
              "    }\n",
              "\n",
              "    [theme=dark] .colab-df-convert:hover {\n",
              "      background-color: #434B5C;\n",
              "      box-shadow: 0px 1px 3px 1px rgba(0, 0, 0, 0.15);\n",
              "      filter: drop-shadow(0px 1px 2px rgba(0, 0, 0, 0.3));\n",
              "      fill: #FFFFFF;\n",
              "    }\n",
              "  </style>\n",
              "\n",
              "      <script>\n",
              "        const buttonEl =\n",
              "          document.querySelector('#df-38b4b829-0a8b-43fb-9377-b6800768df4d button.colab-df-convert');\n",
              "        buttonEl.style.display =\n",
              "          google.colab.kernel.accessAllowed ? 'block' : 'none';\n",
              "\n",
              "        async function convertToInteractive(key) {\n",
              "          const element = document.querySelector('#df-38b4b829-0a8b-43fb-9377-b6800768df4d');\n",
              "          const dataTable =\n",
              "            await google.colab.kernel.invokeFunction('convertToInteractive',\n",
              "                                                     [key], {});\n",
              "          if (!dataTable) return;\n",
              "\n",
              "          const docLinkHtml = 'Like what you see? Visit the ' +\n",
              "            '<a target=\"_blank\" href=https://colab.research.google.com/notebooks/data_table.ipynb>data table notebook</a>'\n",
              "            + ' to learn more about interactive tables.';\n",
              "          element.innerHTML = '';\n",
              "          dataTable['output_type'] = 'display_data';\n",
              "          await google.colab.output.renderOutput(dataTable, element);\n",
              "          const docLink = document.createElement('div');\n",
              "          docLink.innerHTML = docLinkHtml;\n",
              "          element.appendChild(docLink);\n",
              "        }\n",
              "      </script>\n",
              "    </div>\n",
              "  </div>\n",
              "  "
            ]
          },
          "metadata": {},
          "execution_count": 43
        }
      ]
    },
    {
      "cell_type": "code",
      "source": [
        "with open('kbest_feature.pickle', 'wb') as output:\n",
        "  pickle.dump(kbest_feature, output)"
      ],
      "metadata": {
        "id": "NHtAFK_wot2h"
      },
      "execution_count": 44,
      "outputs": []
    },
    {
      "cell_type": "markdown",
      "source": [
        "# **4. Modelling (Machine Learning)**"
      ],
      "metadata": {
        "id": "6breJoavroZT"
      }
    },
    {
      "cell_type": "code",
      "source": [
        "'''\n",
        "Supervised learning in Sklearn\n",
        "https://scikit-learn.org/stable/supervised_learning.html\n",
        "'''\n",
        "from sklearn.naive_bayes import MultinomialNB           # Pilih salah satu algoritma supervised learning. Contoh ini menggunakan algoritma Naive Bayes\n",
        "from sklearn.model_selection import train_test_split    # Digunakan untuk memisahkan data uji dan data latih\n",
        "from joblib import dump                                 # Digunakan untuk menyimpan model yang telah dilatih"
      ],
      "metadata": {
        "id": "khXDFEO6owU6"
      },
      "execution_count": 45,
      "outputs": []
    },
    {
      "cell_type": "code",
      "source": [
        "# Proses memisahkan data uji dan data latih. Perbandingan 80% untuk data latih, 20% untuk data uji\n",
        "# Random_state digunakan untuk internal random generator\n",
        "# Gunakan fitur (X) hasil seleksi fitur\n",
        "\n",
        "# Split arrays or matrices into random train and test subsets.\n",
        "# https://scikit-learn.org/stable/modules/generated/sklearn.model_selection.train_test_split.html\n",
        "\n",
        "X_train, X_test, y_train, y_test = train_test_split(X_kbest_features, y, test_size=0.2, random_state=40)"
      ],
      "metadata": {
        "id": "XhvdVGuXozL_"
      },
      "execution_count": 46,
      "outputs": []
    },
    {
      "cell_type": "code",
      "source": [
        "# Training the model\n",
        "algorithm = MultinomialNB()               # Load algoritma pembelajaran\n",
        "model = algorithm.fit(X_train, y_train)   # Fitkan (latih) algoritma pada data latih & label latih \n",
        "\n",
        "# Simpan model hasil traning\n",
        "dump(model, filename='model_1.joblib')"
      ],
      "metadata": {
        "colab": {
          "base_uri": "https://localhost:8080/"
        },
        "id": "8k9qMwBPo2R9",
        "outputId": "acb35ef0-9c5c-490d-f28e-f03902f89cd0"
      },
      "execution_count": 47,
      "outputs": [
        {
          "output_type": "execute_result",
          "data": {
            "text/plain": [
              "['model_1.joblib']"
            ]
          },
          "metadata": {},
          "execution_count": 47
        }
      ]
    },
    {
      "cell_type": "code",
      "source": [
        "# Gunakan model yang telah di latih untuk memprediksi label pada data uji\n",
        "model_pred = model.predict(X_test)\n",
        "\n",
        "# Tampilkan hasil prediksi label dari model\n",
        "model_pred"
      ],
      "metadata": {
        "colab": {
          "base_uri": "https://localhost:8080/"
        },
        "id": "RE-gsdkpo46z",
        "outputId": "95acfcd4-1c46-4b90-d3e0-b24bcdb503be"
      },
      "execution_count": 48,
      "outputs": [
        {
          "output_type": "execute_result",
          "data": {
            "text/plain": [
              "array([2, 1, 1, 2, 1, 1, 2, 1, 2, 1, 1, 1, 1, 2, 2, 1, 1, 2, 1, 2, 1, 2,\n",
              "       2, 2, 1, 2, 2, 1, 1, 1, 2, 2, 2, 1, 1, 1, 2, 2, 2, 1])"
            ]
          },
          "metadata": {},
          "execution_count": 48
        }
      ]
    },
    {
      "cell_type": "code",
      "source": [
        "# Tampilkan label sebenarnya pada data uji (actual label)\n",
        "y_test"
      ],
      "metadata": {
        "colab": {
          "base_uri": "https://localhost:8080/"
        },
        "id": "zkjMqOyoo7Wu",
        "outputId": "4ea6a9b6-19d2-43ee-f36e-f87d99d6c7db"
      },
      "execution_count": 49,
      "outputs": [
        {
          "output_type": "execute_result",
          "data": {
            "text/plain": [
              "array([2, 2, 1, 2, 1, 1, 2, 1, 2, 1, 1, 1, 1, 2, 2, 1, 1, 2, 1, 2, 1, 2,\n",
              "       2, 2, 1, 2, 2, 1, 1, 1, 2, 2, 1, 1, 2, 1, 2, 1, 2, 1])"
            ]
          },
          "metadata": {},
          "execution_count": 49
        }
      ]
    },
    {
      "cell_type": "markdown",
      "source": [
        "# **5. Model Evaluation**"
      ],
      "metadata": {
        "id": "TirQ3Vx0ruFp"
      }
    },
    {
      "cell_type": "code",
      "source": [
        "# Hitung jumlah data yang berhasil di prediksi model & jumlah data yang salah di prediksi\n",
        "prediksi_benar = (model_pred == y_test).sum()\n",
        "prediksi_salah = (model_pred != y_test).sum()\n",
        "\n",
        "print('Jumlah prediksi benar\\t:', prediksi_benar)\n",
        "print('Jumlah prediksi salah\\t:', prediksi_salah)\n",
        "\n",
        "accuracy = prediksi_benar / (prediksi_benar + prediksi_salah)*100\n",
        "print('Akurasi pengujian\\t:', accuracy, '%')"
      ],
      "metadata": {
        "colab": {
          "base_uri": "https://localhost:8080/"
        },
        "id": "WA8kP8ylo-QJ",
        "outputId": "957d653e-5199-441a-a726-e4aeb29a3980"
      },
      "execution_count": 50,
      "outputs": [
        {
          "output_type": "stream",
          "name": "stdout",
          "text": [
            "Jumlah prediksi benar\t: 36\n",
            "Jumlah prediksi salah\t: 4\n",
            "Akurasi pengujian\t: 90.0 %\n"
          ]
        }
      ]
    },
    {
      "cell_type": "code",
      "source": [
        "from sklearn.metrics import confusion_matrix\n",
        "\n",
        "cm = confusion_matrix(y_test, model_pred)\n",
        "print('Confusion matrix:\\n', cm)"
      ],
      "metadata": {
        "colab": {
          "base_uri": "https://localhost:8080/"
        },
        "id": "8fLcTPxTpBJ7",
        "outputId": "8e64bc36-75ed-48b7-9a16-0e19bea72989"
      },
      "execution_count": 51,
      "outputs": [
        {
          "output_type": "stream",
          "name": "stdout",
          "text": [
            "Confusion matrix:\n",
            " [[19  2]\n",
            " [ 2 17]]\n"
          ]
        }
      ]
    },
    {
      "cell_type": "code",
      "source": [
        "from sklearn.metrics import classification_report\n",
        "\n",
        "print('Classification report:\\n', classification_report(y_test, model_pred))"
      ],
      "metadata": {
        "colab": {
          "base_uri": "https://localhost:8080/"
        },
        "id": "PxFw7nx1pD-c",
        "outputId": "d0c23653-dea2-414a-8124-dc1f3373bfee"
      },
      "execution_count": 52,
      "outputs": [
        {
          "output_type": "stream",
          "name": "stdout",
          "text": [
            "Classification report:\n",
            "               precision    recall  f1-score   support\n",
            "\n",
            "           1       0.90      0.90      0.90        21\n",
            "           2       0.89      0.89      0.89        19\n",
            "\n",
            "    accuracy                           0.90        40\n",
            "   macro avg       0.90      0.90      0.90        40\n",
            "weighted avg       0.90      0.90      0.90        40\n",
            "\n"
          ]
        }
      ]
    },
    {
      "cell_type": "code",
      "source": [
        "# Cross Validation\n",
        "\n",
        "from sklearn.model_selection import ShuffleSplit    # bisa pilih beberapa teknik cross validation\n",
        "from sklearn.model_selection import cross_val_score # untuk mengetahui performa model pada cross validation\n",
        "\n",
        "cv = ShuffleSplit(n_splits=10, test_size=0.2, random_state=50)\n",
        "\n",
        "cv_accuracy = (cross_val_score(model, X_kbest_features, y, cv=cv, scoring='accuracy'))\n",
        "avg_accuracy = np.mean(cv_accuracy)\n",
        "\n",
        "print('Akurasi setiap split:', cv_accuracy, '\\n')\n",
        "print('Rata-rata akurasi pada cross validation:', avg_accuracy)"
      ],
      "metadata": {
        "colab": {
          "base_uri": "https://localhost:8080/"
        },
        "id": "1Uw9r6W8pG5P",
        "outputId": "a1d59e60-621e-47e2-d286-8294b323a835"
      },
      "execution_count": 53,
      "outputs": [
        {
          "output_type": "stream",
          "name": "stdout",
          "text": [
            "Akurasi setiap split: [0.925 0.875 0.875 0.75  0.85  0.85  0.95  0.925 0.875 0.925] \n",
            "\n",
            "Rata-rata akurasi pada cross validation: 0.8800000000000001\n"
          ]
        }
      ]
    },
    {
      "cell_type": "markdown",
      "source": [
        "# **6. Simple Deployment**"
      ],
      "metadata": {
        "id": "vSWU3w6Irz9T"
      }
    },
    {
      "cell_type": "code",
      "source": [
        "from joblib import load\n",
        "\n",
        "# load model\n",
        "model = load('model_1.joblib')\n",
        "\n",
        "# load vocabulary dari TF_idf\n",
        "vocab = pickle.load(open('kbest_feature.pickle', 'rb'))"
      ],
      "metadata": {
        "id": "thKMxDfWpJj6"
      },
      "execution_count": 54,
      "outputs": []
    },
    {
      "cell_type": "code",
      "source": [
        "#@title Masukkan Teks Anda:\n",
        "input_text = \"film ini menarik tetapi pengambilan gambarnya kurang sesuai\" #@param {type:\"string\"}\n",
        "\n",
        "pre_input_text = text_preprocessing_process(input_text)   # lakukan text pre processing pada text input\n",
        "\n",
        "tf_idf_vec = TfidfVectorizer(vocabulary=set(vocab))       # definisikan TF_IDF\n",
        "\n",
        "result = model.predict(tf_idf_vec.fit_transform([pre_input_text]))  # Lakukan prediksi\n",
        "\n",
        "print('Hasil Text Preprocessing :', pre_input_text)\n",
        "\n",
        "if (result==1):\n",
        "  sms = 'opini positive'\n",
        "elif (result==2):\n",
        "  sms = 'opini negative'\n",
        "else:\n",
        "  sms = 'SMS Promo'\n",
        "\n",
        "print('Hasil prediksi', input_text, ' adalah\\n', sms)"
      ],
      "metadata": {
        "colab": {
          "base_uri": "https://localhost:8080/"
        },
        "id": "WX4E8pQOpMue",
        "outputId": "4d98dfef-c482-4fdb-9125-f9fa29f40145"
      },
      "execution_count": 55,
      "outputs": [
        {
          "output_type": "stream",
          "name": "stdout",
          "text": [
            "Hasil Text Preprocessing : film tarik ambil gambar sesuai\n",
            "Hasil prediksi film ini menarik tetapi pengambilan gambarnya kurang sesuai  adalah\n",
            " opini positive\n"
          ]
        }
      ]
    },
    {
      "cell_type": "code",
      "source": [
        "# Import Library WordCloud. WordCloud digunakan untuk melihat secara visual kata-kata yang paling sering muncul.\n",
        "# Import Library cv2 untuk mengolah gambar menjadi masking WordCloud\n",
        "\n",
        "import cv2\n",
        "from wordcloud import WordCloud"
      ],
      "metadata": {
        "id": "Nf-z5fvzpUUB"
      },
      "execution_count": 56,
      "outputs": []
    },
    {
      "cell_type": "code",
      "source": [
        "# Download gambar masking\n",
        "!wget https://raw.githubusercontent.com/ksnugroho/klasifikasi-spam-sms/master/img/cloud.jpg"
      ],
      "metadata": {
        "colab": {
          "base_uri": "https://localhost:8080/"
        },
        "id": "Fn3xF9G-pX6B",
        "outputId": "5804cb6d-18fc-4780-b2d9-8a890099398d"
      },
      "execution_count": 57,
      "outputs": [
        {
          "output_type": "stream",
          "name": "stdout",
          "text": [
            "--2023-04-10 10:10:57--  https://raw.githubusercontent.com/ksnugroho/klasifikasi-spam-sms/master/img/cloud.jpg\n",
            "Resolving raw.githubusercontent.com (raw.githubusercontent.com)... 185.199.108.133, 185.199.109.133, 185.199.110.133, ...\n",
            "Connecting to raw.githubusercontent.com (raw.githubusercontent.com)|185.199.108.133|:443... connected.\n",
            "HTTP request sent, awaiting response... 200 OK\n",
            "Length: 34396 (34K) [image/jpeg]\n",
            "Saving to: ‘cloud.jpg’\n",
            "\n",
            "\rcloud.jpg             0%[                    ]       0  --.-KB/s               \rcloud.jpg           100%[===================>]  33.59K  --.-KB/s    in 0.003s  \n",
            "\n",
            "2023-04-10 10:10:57 (11.9 MB/s) - ‘cloud.jpg’ saved [34396/34396]\n",
            "\n"
          ]
        }
      ]
    },
    {
      "cell_type": "code",
      "source": [
        "originalImage = cv2.imread('cloud.jpg')\n",
        "grayImage = cv2.cvtColor(originalImage, cv2.COLOR_BGR2GRAY)\n",
        "(thresh, cloud_mask) = cv2.threshold(grayImage, 100, 255, cv2.THRESH_BINARY)"
      ],
      "metadata": {
        "id": "eFn86vl4pa5e"
      },
      "execution_count": 58,
      "outputs": []
    },
    {
      "cell_type": "code",
      "source": [
        "# Tampilkan masking\n",
        "from google.colab.patches import cv2_imshow\n",
        "\n",
        "cv2_imshow(cloud_mask)"
      ],
      "metadata": {
        "colab": {
          "base_uri": "https://localhost:8080/",
          "height": 668
        },
        "id": "cNIaScS3pdcV",
        "outputId": "7a9e0005-296e-4d9b-ea9b-b11dff819031"
      },
      "execution_count": 59,
      "outputs": [
        {
          "output_type": "display_data",
          "data": {
            "text/plain": [
              "<PIL.Image.Image image mode=L size=1000x651 at 0x7FA4031C3E50>"
            ],
            "image/png": "[encoded data removed]"
          },
          "metadata": {}
        }
      ]
    },
    {
      "cell_type": "code",
      "source": [
        "sms_normal = data[data.label == 1]\n",
        "normal_string = []\n",
        "\n",
        "for t in sms_normal.clean_teks:\n",
        "  normal_string.append(t)\n",
        "\n",
        "normal_string = pd.Series(normal_string).str.cat(sep=' ')\n",
        "from wordcloud import WordCloud\n",
        "\n",
        "wordcloud = WordCloud(width=1600, height=800, margin=10,\n",
        "                      background_color='white', colormap='Dark2',\n",
        "                      max_font_size=200, min_font_size=25,\n",
        "                      mask=cloud_mask, contour_width=10, contour_color='firebrick',\n",
        "                      max_words=100).generate(normal_string)\n",
        "plt.figure(figsize=(10,8))\n",
        "plt.imshow(wordcloud)\n",
        "plt.axis(\"off\")\n",
        "plt.show()"
      ],
      "metadata": {
        "colab": {
          "base_uri": "https://localhost:8080/",
          "height": 541
        },
        "id": "gjgU1j6ZpgNR",
        "outputId": "57fa9b64-94e1-4d2a-be1c-01447bbdfe95"
      },
      "execution_count": 60,
      "outputs": [
        {
          "output_type": "display_data",
          "data": {
            "text/plain": [
              "<Figure size 1000x800 with 1 Axes>"
            ],
            "image/png": "[encoded data removed]"
          },
          "metadata": {}
        }
      ]
    },
    {
      "cell_type": "code",
      "source": [
        "# WordCloud Label opini negatif\n",
        "\n",
        "sms_fraud = data[data.label == 2]\n",
        "fraud_string = []\n",
        "\n",
        "for t in sms_fraud.clean_teks:\n",
        "  fraud_string.append(t)\n",
        "\n",
        "fraud_string = pd.Series(fraud_string).str.cat(sep=' ')\n",
        "from wordcloud import WordCloud\n",
        "\n",
        "wordcloud = WordCloud(width=1600, height=800, margin=10,\n",
        "                      background_color='white', colormap='Dark2',\n",
        "                      max_font_size=200, min_font_size=25,\n",
        "                      mask=cloud_mask, contour_width=10, contour_color='firebrick',\n",
        "                      max_words=100).generate(fraud_string)\n",
        "plt.figure(figsize=(10,8))\n",
        "plt.imshow(wordcloud)\n",
        "plt.axis(\"off\")\n",
        "plt.show()"
      ],
      "metadata": {
        "colab": {
          "base_uri": "https://localhost:8080/",
          "height": 541
        },
        "id": "S-oWQsqmpkv0",
        "outputId": "94765d48-dd23-4be3-e88d-f17e68e712dd"
      },
      "execution_count": 61,
      "outputs": [
        {
          "output_type": "display_data",
          "data": {
            "text/plain": [
              "<Figure size 1000x800 with 1 Axes>"
            ],
            "image/png": "[encoded data removed]"
          },
          "metadata": {}
        }
      ]
    }
  ]
}